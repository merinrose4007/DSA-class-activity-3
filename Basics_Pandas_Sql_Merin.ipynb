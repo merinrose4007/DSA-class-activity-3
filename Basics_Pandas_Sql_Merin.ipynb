{
  "nbformat": 4,
  "nbformat_minor": 0,
  "metadata": {
    "colab": {
      "provenance": [],
      "mount_file_id": "1oup5v52qLlqGVh5nTZslZ1mdN8Sx_nb6",
      "authorship_tag": "ABX9TyP1mhBPNpsIrT1tY+klWWbG",
      "include_colab_link": true
    },
    "kernelspec": {
      "name": "python3",
      "display_name": "Python 3"
    },
    "language_info": {
      "name": "python"
    }
  },
  "cells": [
    {
      "cell_type": "markdown",
      "metadata": {
        "id": "view-in-github",
        "colab_type": "text"
      },
      "source": [
        "<a href=\"https://colab.research.google.com/github/merinrose4007/DSA-class-activity-3/blob/main/Basics_Pandas_Sql_Merin.ipynb\" target=\"_parent\"><img src=\"https://colab.research.google.com/assets/colab-badge.svg\" alt=\"Open In Colab\"/></a>"
      ]
    },
    {
      "cell_type": "markdown",
      "source": [
        "#***Exploring Python Notebook***\n",
        "Here we are exploring some basics operations using google colab"
      ],
      "metadata": {
        "id": "OZm5gxhZkmhq"
      }
    },
    {
      "cell_type": "code",
      "execution_count": null,
      "metadata": {
        "colab": {
          "base_uri": "https://localhost:8080/"
        },
        "id": "ntTtvCfQgSLg",
        "outputId": "838f47a8-45b2-46c6-a6c0-9e71024b836d"
      },
      "outputs": [
        {
          "output_type": "stream",
          "name": "stdout",
          "text": [
            "Hello World\n"
          ]
        }
      ],
      "source": [
        "print('Hello World') #printing the phrase 'Hello World'"
      ]
    },
    {
      "cell_type": "markdown",
      "source": [
        "#topic2"
      ],
      "metadata": {
        "id": "5I1nFhSXnslG"
      }
    },
    {
      "cell_type": "markdown",
      "source": [
        "##subtopic2"
      ],
      "metadata": {
        "id": "TFhpWPZ1n-Oj"
      }
    },
    {
      "cell_type": "code",
      "source": [
        "age=23+1j"
      ],
      "metadata": {
        "id": "_4OI8nD5nvKC"
      },
      "execution_count": null,
      "outputs": []
    },
    {
      "cell_type": "code",
      "source": [
        "print(age)"
      ],
      "metadata": {
        "colab": {
          "base_uri": "https://localhost:8080/"
        },
        "id": "7Vo2K8irK90t",
        "outputId": "92d4ac33-e05f-493e-a588-9b22de13983b"
      },
      "execution_count": null,
      "outputs": [
        {
          "output_type": "stream",
          "name": "stdout",
          "text": [
            "(23+1j)\n"
          ]
        }
      ]
    },
    {
      "cell_type": "code",
      "source": [
        "type(age)"
      ],
      "metadata": {
        "colab": {
          "base_uri": "https://localhost:8080/"
        },
        "id": "zbaqAZQWLNY3",
        "outputId": "5f979bee-0ee3-4722-c123-928056f86941"
      },
      "execution_count": null,
      "outputs": [
        {
          "output_type": "execute_result",
          "data": {
            "text/plain": [
              "complex"
            ]
          },
          "metadata": {},
          "execution_count": 195
        }
      ]
    },
    {
      "cell_type": "code",
      "source": [
        "name='Das'"
      ],
      "metadata": {
        "id": "xxVrpEsXOsEi"
      },
      "execution_count": null,
      "outputs": []
    },
    {
      "cell_type": "code",
      "source": [
        "type(name)"
      ],
      "metadata": {
        "colab": {
          "base_uri": "https://localhost:8080/"
        },
        "id": "6QDvihzTO-rg",
        "outputId": "4b3fa5d5-927e-4182-9868-d277ac2a1fa3"
      },
      "execution_count": null,
      "outputs": [
        {
          "output_type": "execute_result",
          "data": {
            "text/plain": [
              "str"
            ]
          },
          "metadata": {},
          "execution_count": 197
        }
      ]
    },
    {
      "cell_type": "code",
      "source": [
        "days=['th', 'mon', 'tue']"
      ],
      "metadata": {
        "id": "P6FUMPyXPXe-"
      },
      "execution_count": null,
      "outputs": []
    },
    {
      "cell_type": "code",
      "source": [
        "type(days)"
      ],
      "metadata": {
        "colab": {
          "base_uri": "https://localhost:8080/"
        },
        "id": "-GHBM2JsPk12",
        "outputId": "c5af04b8-00b6-4d1e-bdb7-85c1acb37b8e"
      },
      "execution_count": null,
      "outputs": [
        {
          "output_type": "execute_result",
          "data": {
            "text/plain": [
              "list"
            ]
          },
          "metadata": {},
          "execution_count": 199
        }
      ]
    },
    {
      "cell_type": "code",
      "source": [
        "days[0]"
      ],
      "metadata": {
        "colab": {
          "base_uri": "https://localhost:8080/",
          "height": 36
        },
        "id": "jUo33EL2Qx2P",
        "outputId": "1d89832c-11f3-4445-c74b-8d64835206d7"
      },
      "execution_count": null,
      "outputs": [
        {
          "output_type": "execute_result",
          "data": {
            "text/plain": [
              "'th'"
            ],
            "application/vnd.google.colaboratory.intrinsic+json": {
              "type": "string"
            }
          },
          "metadata": {},
          "execution_count": 200
        }
      ]
    },
    {
      "cell_type": "code",
      "source": [
        "list(range(8,-1,-2))"
      ],
      "metadata": {
        "colab": {
          "base_uri": "https://localhost:8080/"
        },
        "id": "kKf-bWiqQ0JP",
        "outputId": "f61f0b89-4a22-445d-e9f6-dabcc1f1cda7"
      },
      "execution_count": null,
      "outputs": [
        {
          "output_type": "execute_result",
          "data": {
            "text/plain": [
              "[8, 6, 4, 2, 0]"
            ]
          },
          "metadata": {},
          "execution_count": 111
        }
      ]
    },
    {
      "cell_type": "code",
      "source": [
        "details={'batch':7, 'course':'DSA'}"
      ],
      "metadata": {
        "id": "Y1dhH7s-TcZ6"
      },
      "execution_count": null,
      "outputs": []
    },
    {
      "cell_type": "code",
      "source": [
        "details['batch']"
      ],
      "metadata": {
        "colab": {
          "base_uri": "https://localhost:8080/"
        },
        "id": "mo5bl_ILUP2X",
        "outputId": "1eab011b-0f01-42f1-8b7b-e2dd51bd0452"
      },
      "execution_count": null,
      "outputs": [
        {
          "output_type": "execute_result",
          "data": {
            "text/plain": [
              "7"
            ]
          },
          "metadata": {},
          "execution_count": 113
        }
      ]
    },
    {
      "cell_type": "code",
      "source": [
        "details.values()"
      ],
      "metadata": {
        "colab": {
          "base_uri": "https://localhost:8080/"
        },
        "id": "5AzN4vZgUN-H",
        "outputId": "71c98856-1acb-4629-8232-195ec08788c9"
      },
      "execution_count": null,
      "outputs": [
        {
          "output_type": "execute_result",
          "data": {
            "text/plain": [
              "dict_values([7, 'DSA'])"
            ]
          },
          "metadata": {},
          "execution_count": 114
        }
      ]
    },
    {
      "cell_type": "code",
      "source": [
        "details.keys()"
      ],
      "metadata": {
        "colab": {
          "base_uri": "https://localhost:8080/"
        },
        "id": "NBkpUuDAUakk",
        "outputId": "a3e56997-3fb5-4d2d-b696-bf27cc1d58e7"
      },
      "execution_count": null,
      "outputs": [
        {
          "output_type": "execute_result",
          "data": {
            "text/plain": [
              "dict_keys(['batch', 'course'])"
            ]
          },
          "metadata": {},
          "execution_count": 115
        }
      ]
    },
    {
      "cell_type": "code",
      "source": [
        "details['location']='TVM'"
      ],
      "metadata": {
        "id": "5BTbvbYgUi0t"
      },
      "execution_count": null,
      "outputs": []
    },
    {
      "cell_type": "code",
      "source": [
        "print(details)"
      ],
      "metadata": {
        "colab": {
          "base_uri": "https://localhost:8080/"
        },
        "id": "Q8xL7JY4Up7R",
        "outputId": "5681243a-4b60-4819-df0f-b800301ea7c5"
      },
      "execution_count": null,
      "outputs": [
        {
          "output_type": "stream",
          "name": "stdout",
          "text": [
            "{'batch': 7, 'course': 'DSA', 'location': 'TVM'}\n"
          ]
        }
      ]
    },
    {
      "cell_type": "code",
      "source": [
        "set={'merin','Maria','Jiji'}"
      ],
      "metadata": {
        "id": "Hfi1-K2zVL4i"
      },
      "execution_count": null,
      "outputs": []
    },
    {
      "cell_type": "code",
      "source": [
        "type(set)"
      ],
      "metadata": {
        "colab": {
          "base_uri": "https://localhost:8080/"
        },
        "id": "9rh1Q8yNVuLl",
        "outputId": "7830d4b6-2d30-4e07-df8b-96dc12a6c166"
      },
      "execution_count": null,
      "outputs": [
        {
          "output_type": "execute_result",
          "data": {
            "text/plain": [
              "set"
            ]
          },
          "metadata": {},
          "execution_count": 119
        }
      ]
    },
    {
      "cell_type": "code",
      "source": [
        "10>30"
      ],
      "metadata": {
        "colab": {
          "base_uri": "https://localhost:8080/"
        },
        "id": "3SS7k0mpVy12",
        "outputId": "5dc08c72-3e10-41fc-97ee-5e84b110b48c"
      },
      "execution_count": null,
      "outputs": [
        {
          "output_type": "execute_result",
          "data": {
            "text/plain": [
              "False"
            ]
          },
          "metadata": {},
          "execution_count": 120
        }
      ]
    },
    {
      "cell_type": "code",
      "source": [
        "9//2"
      ],
      "metadata": {
        "colab": {
          "base_uri": "https://localhost:8080/"
        },
        "id": "0RaLh4pUV_o6",
        "outputId": "c078b32d-c757-4ac5-cc92-34c15fcd0d8b"
      },
      "execution_count": null,
      "outputs": [
        {
          "output_type": "execute_result",
          "data": {
            "text/plain": [
              "4"
            ]
          },
          "metadata": {},
          "execution_count": 121
        }
      ]
    },
    {
      "cell_type": "code",
      "source": [
        "year_of_birth=1998\n",
        "year_now=2025\n",
        "age=year_now-year_of_birth\n",
        "print(age)"
      ],
      "metadata": {
        "colab": {
          "base_uri": "https://localhost:8080/"
        },
        "id": "ztUn-EvHYcox",
        "outputId": "cfa5beb9-0fd8-414a-a162-e4c76d4439e6"
      },
      "execution_count": null,
      "outputs": [
        {
          "output_type": "stream",
          "name": "stdout",
          "text": [
            "27\n"
          ]
        }
      ]
    },
    {
      "cell_type": "code",
      "source": [
        "bio_data={'age':23,\\\n",
        "          'name':'Merin','location':'Kozhikode'}"
      ],
      "metadata": {
        "id": "ymCeopMWZNa8"
      },
      "execution_count": null,
      "outputs": []
    },
    {
      "cell_type": "code",
      "source": [
        "print(bio_data)"
      ],
      "metadata": {
        "colab": {
          "base_uri": "https://localhost:8080/"
        },
        "id": "32l9CmS1ZgR3",
        "outputId": "273bb2f6-f291-4078-bbe2-7ef86539b051"
      },
      "execution_count": null,
      "outputs": [
        {
          "output_type": "stream",
          "name": "stdout",
          "text": [
            "{'age': 23, 'name': 'Merin', 'location': 'Kozhikode'}\n"
          ]
        }
      ]
    },
    {
      "cell_type": "code",
      "source": [
        "to_do_list=['To Make ppt for my project','to study for viva','to wash cloths']"
      ],
      "metadata": {
        "id": "rsyYCNH-apTL"
      },
      "execution_count": null,
      "outputs": []
    },
    {
      "cell_type": "code",
      "source": [
        "print(to_do_list[-2])"
      ],
      "metadata": {
        "colab": {
          "base_uri": "https://localhost:8080/"
        },
        "id": "mHcX_kl2b9T4",
        "outputId": "d9ed52a8-b1bc-41d6-de0c-278388493023"
      },
      "execution_count": null,
      "outputs": [
        {
          "output_type": "stream",
          "name": "stdout",
          "text": [
            "to study for viva\n"
          ]
        }
      ]
    },
    {
      "cell_type": "code",
      "source": [
        "print(to_do_list)"
      ],
      "metadata": {
        "colab": {
          "base_uri": "https://localhost:8080/"
        },
        "id": "Y4GTSb_rbE0z",
        "outputId": "47c966ce-9bfd-4660-9afc-a15125e9400c"
      },
      "execution_count": null,
      "outputs": [
        {
          "output_type": "stream",
          "name": "stdout",
          "text": [
            "['To Make ppt for my project', 'to study for viva', 'to wash cloths']\n"
          ]
        }
      ]
    },
    {
      "cell_type": "code",
      "source": [
        "list(range(99,0,-2))"
      ],
      "metadata": {
        "colab": {
          "base_uri": "https://localhost:8080/"
        },
        "id": "sKnhGpl8bILt",
        "outputId": "c04d6bf6-65eb-4dce-829e-c32a7dbe0d56"
      },
      "execution_count": null,
      "outputs": [
        {
          "output_type": "execute_result",
          "data": {
            "text/plain": [
              "[99,\n",
              " 97,\n",
              " 95,\n",
              " 93,\n",
              " 91,\n",
              " 89,\n",
              " 87,\n",
              " 85,\n",
              " 83,\n",
              " 81,\n",
              " 79,\n",
              " 77,\n",
              " 75,\n",
              " 73,\n",
              " 71,\n",
              " 69,\n",
              " 67,\n",
              " 65,\n",
              " 63,\n",
              " 61,\n",
              " 59,\n",
              " 57,\n",
              " 55,\n",
              " 53,\n",
              " 51,\n",
              " 49,\n",
              " 47,\n",
              " 45,\n",
              " 43,\n",
              " 41,\n",
              " 39,\n",
              " 37,\n",
              " 35,\n",
              " 33,\n",
              " 31,\n",
              " 29,\n",
              " 27,\n",
              " 25,\n",
              " 23,\n",
              " 21,\n",
              " 19,\n",
              " 17,\n",
              " 15,\n",
              " 13,\n",
              " 11,\n",
              " 9,\n",
              " 7,\n",
              " 5,\n",
              " 3,\n",
              " 1]"
            ]
          },
          "metadata": {},
          "execution_count": 128
        }
      ]
    },
    {
      "cell_type": "code",
      "source": [
        "m='Merin'\n",
        "print(len(m))"
      ],
      "metadata": {
        "colab": {
          "base_uri": "https://localhost:8080/"
        },
        "id": "zFfcDqdRcwJ2",
        "outputId": "9d868f24-809e-4706-f780-06ba361587e8"
      },
      "execution_count": null,
      "outputs": [
        {
          "output_type": "stream",
          "name": "stdout",
          "text": [
            "5\n"
          ]
        }
      ]
    },
    {
      "cell_type": "code",
      "source": [
        "x=input(\"Enter:\")\n",
        "print(x)\n",
        "type(x)"
      ],
      "metadata": {
        "colab": {
          "base_uri": "https://localhost:8080/"
        },
        "id": "cYZmx2zFdvhe",
        "outputId": "f94bfbe7-a0ba-46dd-b6c9-735561c3a03e"
      },
      "execution_count": null,
      "outputs": [
        {
          "output_type": "stream",
          "name": "stdout",
          "text": [
            "Enter:2\n",
            "2\n"
          ]
        },
        {
          "output_type": "execute_result",
          "data": {
            "text/plain": [
              "str"
            ]
          },
          "metadata": {},
          "execution_count": 130
        }
      ]
    },
    {
      "cell_type": "code",
      "source": [
        "num1=input(\"Enter a number\")\n",
        "num2=input(\"Enter a number\")\n",
        "sum=int(num1)+int(num2)\n",
        "mul=int(num1)*int(num2)\n",
        "sub=int(num1)-int(num2)\n",
        "div=int(num1)/int(num2)\n",
        "print(sum,mul,div,sub)\n",
        "\n"
      ],
      "metadata": {
        "colab": {
          "base_uri": "https://localhost:8080/"
        },
        "id": "owo2UqvHeZxF",
        "outputId": "773ab100-2fdb-44f0-9524-78d295bdd7eb"
      },
      "execution_count": null,
      "outputs": [
        {
          "output_type": "stream",
          "name": "stdout",
          "text": [
            "Enter a number3\n",
            "Enter a number5\n",
            "8 15 0.6 -2\n"
          ]
        }
      ]
    },
    {
      "cell_type": "code",
      "source": [
        "x=int(input(\"Enter your age:\"))\n",
        "print('My age is',x)\n",
        "print(f\"You are {x} years old\")"
      ],
      "metadata": {
        "colab": {
          "base_uri": "https://localhost:8080/"
        },
        "id": "DVj5ffWle8aD",
        "outputId": "b2a64495-2118-4375-dccf-7b46e8f656d8"
      },
      "execution_count": null,
      "outputs": [
        {
          "output_type": "stream",
          "name": "stdout",
          "text": [
            "Enter your age:5\n",
            "My age is 5\n",
            "You are 5 years old\n"
          ]
        }
      ]
    },
    {
      "cell_type": "code",
      "source": [
        "year=int(input(\"Enter your year of birth\"))\n",
        "age=2025-year\n",
        "print(f\"i am {age} years old and i was born on {year}\")"
      ],
      "metadata": {
        "colab": {
          "base_uri": "https://localhost:8080/"
        },
        "id": "rCWPmoeahE6O",
        "outputId": "d9eb7933-f42a-4664-95e0-d42818c1a5b0"
      },
      "execution_count": null,
      "outputs": [
        {
          "output_type": "stream",
          "name": "stdout",
          "text": [
            "Enter your year of birth2020\n",
            "i am 5 years old and i was born on 2020\n"
          ]
        }
      ]
    },
    {
      "cell_type": "code",
      "source": [
        "num=9\n",
        "den=2\n",
        "result=num//den\n",
        "c=num**den\n",
        "\n",
        "print(c)\n",
        "print(result)"
      ],
      "metadata": {
        "colab": {
          "base_uri": "https://localhost:8080/"
        },
        "id": "zBRUCa6GoLmb",
        "outputId": "35a09c1a-35c0-426e-d5ae-2e82f2b97462"
      },
      "execution_count": null,
      "outputs": [
        {
          "output_type": "stream",
          "name": "stdout",
          "text": [
            "81\n",
            "4\n"
          ]
        }
      ]
    },
    {
      "cell_type": "code",
      "source": [
        "print(True and True)"
      ],
      "metadata": {
        "colab": {
          "base_uri": "https://localhost:8080/"
        },
        "id": "AkPmSQa2oZCI",
        "outputId": "bc8bd3b9-7b60-4753-bde9-f905f34f1226"
      },
      "execution_count": null,
      "outputs": [
        {
          "output_type": "stream",
          "name": "stdout",
          "text": [
            "True\n"
          ]
        }
      ]
    },
    {
      "cell_type": "code",
      "source": [
        "print(True or False)"
      ],
      "metadata": {
        "colab": {
          "base_uri": "https://localhost:8080/"
        },
        "id": "Dcue82Rwp-US",
        "outputId": "81099629-8daf-4219-831a-2ae432fef031"
      },
      "execution_count": null,
      "outputs": [
        {
          "output_type": "stream",
          "name": "stdout",
          "text": [
            "True\n"
          ]
        }
      ]
    },
    {
      "cell_type": "code",
      "source": [
        "print(not False)"
      ],
      "metadata": {
        "colab": {
          "base_uri": "https://localhost:8080/"
        },
        "id": "mRSngV5FqDD4",
        "outputId": "96383523-0eb9-4929-b927-8842f1815eba"
      },
      "execution_count": null,
      "outputs": [
        {
          "output_type": "stream",
          "name": "stdout",
          "text": [
            "True\n"
          ]
        }
      ]
    },
    {
      "cell_type": "code",
      "source": [
        "print(False and True)"
      ],
      "metadata": {
        "colab": {
          "base_uri": "https://localhost:8080/"
        },
        "id": "KmQN3YTMqG1v",
        "outputId": "031039c5-8b87-4894-e892-7cde9a2cfa98"
      },
      "execution_count": null,
      "outputs": [
        {
          "output_type": "stream",
          "name": "stdout",
          "text": [
            "False\n"
          ]
        }
      ]
    },
    {
      "cell_type": "code",
      "source": [
        "print(1 in[1,2,3])\n",
        "print(1 not in [2,3,4])\n",
        "print('m' in 'MalayalaM')"
      ],
      "metadata": {
        "colab": {
          "base_uri": "https://localhost:8080/"
        },
        "id": "wsNctH6JqVnp",
        "outputId": "e353a5eb-58cb-4c21-c33e-ce77ec68ee36"
      },
      "execution_count": null,
      "outputs": [
        {
          "output_type": "stream",
          "name": "stdout",
          "text": [
            "True\n",
            "True\n",
            "False\n"
          ]
        }
      ]
    },
    {
      "cell_type": "code",
      "source": [
        "\"hello\"*2"
      ],
      "metadata": {
        "colab": {
          "base_uri": "https://localhost:8080/",
          "height": 36
        },
        "id": "TJOVeh9MsEMA",
        "outputId": "f7b6da81-f2cf-4485-8f5f-12013bbffc38"
      },
      "execution_count": null,
      "outputs": [
        {
          "output_type": "execute_result",
          "data": {
            "text/plain": [
              "'hellohello'"
            ],
            "application/vnd.google.colaboratory.intrinsic+json": {
              "type": "string"
            }
          },
          "metadata": {},
          "execution_count": 140
        }
      ]
    },
    {
      "cell_type": "code",
      "source": [
        "\"mer\"+\"in\""
      ],
      "metadata": {
        "colab": {
          "base_uri": "https://localhost:8080/",
          "height": 36
        },
        "id": "qhJiaSGDsIys",
        "outputId": "34a49f0d-b8b2-4a4b-fc09-c9fd764a7f13"
      },
      "execution_count": null,
      "outputs": [
        {
          "output_type": "execute_result",
          "data": {
            "text/plain": [
              "'merin'"
            ],
            "application/vnd.google.colaboratory.intrinsic+json": {
              "type": "string"
            }
          },
          "metadata": {},
          "execution_count": 141
        }
      ]
    },
    {
      "cell_type": "code",
      "source": [
        "msg=input(\"Enter the msg:\")\n",
        "num=int(input(\"Enter the number of time:\"))"
      ],
      "metadata": {
        "colab": {
          "base_uri": "https://localhost:8080/"
        },
        "id": "tElk0Dzfs9dX",
        "outputId": "93c9e19a-2f92-4cb4-c332-8f4fef430d60"
      },
      "execution_count": null,
      "outputs": [
        {
          "name": "stdout",
          "output_type": "stream",
          "text": [
            "Enter the msg:Merin\n",
            "Enter the number of time:30\n"
          ]
        }
      ]
    },
    {
      "cell_type": "code",
      "source": [
        "print(\"hello all good evening\\n \"*5)"
      ],
      "metadata": {
        "colab": {
          "base_uri": "https://localhost:8080/"
        },
        "id": "aySWUNetsmE-",
        "outputId": "d883fcae-6b6b-4244-b2bf-1df08bd31cde"
      },
      "execution_count": null,
      "outputs": [
        {
          "output_type": "stream",
          "name": "stdout",
          "text": [
            "hello all good evening\n",
            " hello all good evening\n",
            " hello all good evening\n",
            " hello all good evening\n",
            " hello all good evening\n",
            " \n"
          ]
        }
      ]
    },
    {
      "cell_type": "code",
      "source": [
        "'ICT academy of kerala'[4:11]"
      ],
      "metadata": {
        "colab": {
          "base_uri": "https://localhost:8080/",
          "height": 36
        },
        "id": "eV4m3Lq1vLmY",
        "outputId": "8f9bfde6-a105-456c-ed34-524d071cd5da"
      },
      "execution_count": null,
      "outputs": [
        {
          "output_type": "execute_result",
          "data": {
            "text/plain": [
              "'academy'"
            ],
            "application/vnd.google.colaboratory.intrinsic+json": {
              "type": "string"
            }
          },
          "metadata": {},
          "execution_count": 144
        }
      ]
    },
    {
      "cell_type": "code",
      "source": [
        "a=input(\"Enter the name:\")\n",
        "a==a[::-1]"
      ],
      "metadata": {
        "colab": {
          "base_uri": "https://localhost:8080/"
        },
        "id": "it0h0YcdvdZr",
        "outputId": "e6e839a3-e8b6-460d-9570-ca63a2372a10"
      },
      "execution_count": null,
      "outputs": [
        {
          "name": "stdout",
          "output_type": "stream",
          "text": [
            "Enter the name:Merin\n"
          ]
        },
        {
          "output_type": "execute_result",
          "data": {
            "text/plain": [
              "False"
            ]
          },
          "metadata": {},
          "execution_count": 145
        }
      ]
    },
    {
      "cell_type": "code",
      "source": [
        "ar=input('Enter the 4-digit OTP number:').split(\" \")\n",
        "p=ar[0]\n",
        "q=ar[1]\n",
        "r=ar[2]\n",
        "s=ar[3]\n",
        "dic={'zero':'0',\n",
        "'one':'1',\n",
        "'two':'2',\n",
        "'three':'3',\n",
        "'four':'4',\n",
        "'five':'5',\n",
        "'six':'6',\n",
        "'7':'seven',\n",
        "'8':'eight',\n",
        "'9':'nine'}\n",
        "print(dic[p],dic[q],dic[r],dic[s])"
      ],
      "metadata": {
        "colab": {
          "base_uri": "https://localhost:8080/"
        },
        "id": "0ed2C7miw0hO",
        "outputId": "495a1b99-5fdf-4a1e-f2f3-1088ff6d453c"
      },
      "execution_count": null,
      "outputs": [
        {
          "output_type": "stream",
          "name": "stdout",
          "text": [
            "Enter the 4-digit OTP number:three one four two\n",
            "3 1 4 2\n"
          ]
        }
      ]
    },
    {
      "cell_type": "code",
      "source": [
        "digit=['zero', 'one', 'two', 'three', 'four', 'five', 'six', 'seven', 'eight', 'nine']\n"
      ],
      "metadata": {
        "id": "hNon9_Rt3gb8"
      },
      "execution_count": null,
      "outputs": []
    },
    {
      "cell_type": "code",
      "source": [
        "year=int(input(\"Enter your birth year:\"))\n",
        "age=2025-year\n",
        "if age>=18:\n",
        "  print(\"Eligible to vote\")\n",
        "else:\n",
        "  print(\"Not Eligible to vote\")"
      ],
      "metadata": {
        "colab": {
          "base_uri": "https://localhost:8080/"
        },
        "id": "RLmEsyyPS8T2",
        "outputId": "c590ba17-db55-445b-9347-622b1dc527dd"
      },
      "execution_count": null,
      "outputs": [
        {
          "output_type": "stream",
          "name": "stdout",
          "text": [
            "Enter your birth year:2001\n",
            "Eligible to vote\n"
          ]
        }
      ]
    },
    {
      "cell_type": "code",
      "source": [
        "age=int(input(\"Enter the age:\"))\n",
        "if age<=12:\n",
        "  print(\"Child\")\n",
        "  if age<10:\n",
        "    print(\"Teenage\")\n",
        "elif 20<=age<=59:\n",
        "  print(\"Adult\")\n",
        "else:\n",
        "  print(\"Senior Citizen\")"
      ],
      "metadata": {
        "colab": {
          "base_uri": "https://localhost:8080/"
        },
        "id": "KIO-3FelUwd7",
        "outputId": "b8305089-74a5-4f58-94ef-72975760c261"
      },
      "execution_count": null,
      "outputs": [
        {
          "output_type": "stream",
          "name": "stdout",
          "text": [
            "Enter the age:23\n",
            "Adult\n"
          ]
        }
      ]
    },
    {
      "cell_type": "code",
      "source": [
        "x=input(\"Enter the name\")\n",
        "y=len(x)\n",
        "if y>10:\n",
        "  print(\"Name is lengthy\")\n",
        "else:\n",
        "  print(\"Name is not lengthy\")"
      ],
      "metadata": {
        "colab": {
          "base_uri": "https://localhost:8080/"
        },
        "id": "ZXHEtbfGZaJv",
        "outputId": "b606241b-0be6-4a6d-8ebd-1d73f6058730"
      },
      "execution_count": null,
      "outputs": [
        {
          "output_type": "stream",
          "name": "stdout",
          "text": [
            "Enter the nameMerin\n",
            "Name is not lengthy\n"
          ]
        }
      ]
    },
    {
      "cell_type": "code",
      "source": [
        "x=input(\"Enter the railway time:\")\n",
        "z=x.split(\":\")\n",
        "y=int(z[0])\n",
        "if y<=12:\n",
        "  print(x,\"AM\")\n",
        "elif y>12:\n",
        "  print(y-12,\":\",z[1],\"PM\")\n"
      ],
      "metadata": {
        "colab": {
          "base_uri": "https://localhost:8080/"
        },
        "id": "Tt9xOhwnafG6",
        "outputId": "d76296a3-9b8b-4ef9-a4ad-d0fd2df17fad"
      },
      "execution_count": null,
      "outputs": [
        {
          "output_type": "stream",
          "name": "stdout",
          "text": [
            "Enter the railway time:23:00\n",
            "11 : 00 PM\n"
          ]
        }
      ]
    },
    {
      "cell_type": "code",
      "source": [
        "x=input(\"Enter the word\")\n",
        "y=x[::-1]\n",
        "if x==y:\n",
        "  print(\"patlindrome\")\n",
        "else:\n",
        "  print(\"not palindrome\")"
      ],
      "metadata": {
        "colab": {
          "base_uri": "https://localhost:8080/"
        },
        "id": "BdsFb1FAfNuB",
        "outputId": "1d7797de-6958-4f0a-a743-78dbac5555e1"
      },
      "execution_count": null,
      "outputs": [
        {
          "output_type": "stream",
          "name": "stdout",
          "text": [
            "Enter the wordmalayalam\n",
            "patlindrome\n"
          ]
        }
      ]
    },
    {
      "cell_type": "code",
      "source": [
        "y=[\"red\", \"blue\", \"green\", \"Red\", \"Green\",\"Blue\", \"RED\", \"BLUE\", 'GREEN']\n",
        "clr=input(\"Enter your fav color:\")\n",
        "if clr in y:\n",
        "  print(\"Fav clr is a primary clr\")\n",
        "else:\n",
        "  print(\"Not in primary clrs\")\n",
        "\n"
      ],
      "metadata": {
        "colab": {
          "base_uri": "https://localhost:8080/"
        },
        "id": "10-rFXZEgi2N",
        "outputId": "8994b1e7-2763-446d-b243-a19a1dd61566"
      },
      "execution_count": null,
      "outputs": [
        {
          "output_type": "stream",
          "name": "stdout",
          "text": [
            "Enter your fav color:Yellow\n",
            "Not in primary clrs\n"
          ]
        }
      ]
    },
    {
      "cell_type": "code",
      "source": [
        "MFD=input(\"Enter the MFD\").split(\"/\")\n",
        "todays_date=input(\"Enter the date\").split(\"/\")\n",
        "da=int(todays_date[0])\n",
        "du=int(todays_date[1])\n",
        "de=int(todays_date[2])\n",
        "x=int(MFD[0])\n",
        "y=int(MFD[1])\n",
        "z=int(MFD[2])\n",
        "if y<=6:\n",
        "  print(x,\"/\",y+6,\"/\",z)\n",
        "else:\n",
        "  y=y+6\n",
        "  y=y-12\n",
        "  print(x,\"/\",y,\"/\",z+1)\n",
        "if da==x+1 & du<=y & de<=z:\n",
        "  print(\"Expired\")\n",
        "else:\n",
        "  print(\"Not\")\n"
      ],
      "metadata": {
        "colab": {
          "base_uri": "https://localhost:8080/"
        },
        "id": "OvNmMFVhjERa",
        "outputId": "4cc8a1f1-51f0-4178-d978-ae5eef95743c"
      },
      "execution_count": null,
      "outputs": [
        {
          "output_type": "stream",
          "name": "stdout",
          "text": [
            "Enter the MFD20/1/2025\n",
            "Enter the date13/5/2025\n",
            "20 / 7 / 2025\n",
            "Not\n"
          ]
        }
      ]
    },
    {
      "cell_type": "code",
      "source": [
        "x=int(input(\"Enter the number\"))\n",
        "y=int(input(\"Enter the number\"))\n",
        "z=int(input(\"Enter the number\"))\n",
        "if x>=y:\n",
        "  if x>=z:\n",
        "    a=x\n",
        "  elif z>=y:\n",
        "    a=z\n",
        "  print(a,\"is the greatest\")\n",
        "else:\n",
        "  if y>=z:\n",
        "    b=y\n",
        "  elif y<=z:\n",
        "    b=z\n",
        "  print(b,\"is the greatest\")\n",
        "\n"
      ],
      "metadata": {
        "colab": {
          "base_uri": "https://localhost:8080/"
        },
        "id": "VDrN_We6u4xk",
        "outputId": "829c7f6c-8ea2-46c0-a422-ad372d748780"
      },
      "execution_count": null,
      "outputs": [
        {
          "output_type": "stream",
          "name": "stdout",
          "text": [
            "Enter the number13\n",
            "Enter the number20\n",
            "Enter the number25\n",
            "25 is the greatest\n"
          ]
        }
      ]
    },
    {
      "cell_type": "code",
      "source": [
        "l=[\"monday\", \"tuesday\", \"wednesday\", \"thursday\", \"friday\"]\n",
        "f=[\"saturday\", \"sunday\"]\n",
        "day=input(\"enter the day:\")\n",
        "if day in l:\n",
        "  print(\"Is not a holiday\")\n",
        "else:\n",
        "  print(day,\"is a holiday\")"
      ],
      "metadata": {
        "colab": {
          "base_uri": "https://localhost:8080/"
        },
        "id": "EmExZWzAxcI1",
        "outputId": "753f98ab-6269-43a6-ee15-ab80c5c1184f"
      },
      "execution_count": null,
      "outputs": [
        {
          "output_type": "stream",
          "name": "stdout",
          "text": [
            "enter the day:monday\n",
            "Is not a holiday\n"
          ]
        }
      ]
    },
    {
      "cell_type": "code",
      "source": [
        "a=2\n",
        "b=3.14159\n",
        "print(\"a contain {}\". format(a,))\n",
        "print(\"a contain {} b contain{}\". format(a,b))\n",
        "print(\"b contain {1} contain {0}\". format(a,b))\n",
        "print(f\"a contain {a} b contain {b}\")\n",
        "print(f\"b contain {b:.3f}\")"
      ],
      "metadata": {
        "colab": {
          "base_uri": "https://localhost:8080/"
        },
        "id": "99qss6Gf0oFw",
        "outputId": "c6712bff-b24f-4de7-8cbb-c842b43b76e4"
      },
      "execution_count": null,
      "outputs": [
        {
          "output_type": "stream",
          "name": "stdout",
          "text": [
            "a contain 2\n",
            "a contain 2 b contain3.14159\n",
            "b contain 3.14159 contain 2\n",
            "a contain 2 b contain 3.14159\n",
            "b contain 3.142\n"
          ]
        }
      ]
    },
    {
      "cell_type": "code",
      "source": [
        "name, age, location=\"Guest\", 23, \"Kozhikode\"\n",
        "print(name)\n",
        "print(age)\n",
        "print(location)"
      ],
      "metadata": {
        "colab": {
          "base_uri": "https://localhost:8080/"
        },
        "id": "vzRGh0yR2s7s",
        "outputId": "474390a6-fc58-45d8-b33f-49d84b687b69"
      },
      "execution_count": null,
      "outputs": [
        {
          "output_type": "stream",
          "name": "stdout",
          "text": [
            "Guest\n",
            "23\n",
            "Kozhikode\n"
          ]
        }
      ]
    },
    {
      "cell_type": "code",
      "source": [
        "q=5\n",
        "b=str(q)\n",
        "print(b, type(b))"
      ],
      "metadata": {
        "colab": {
          "base_uri": "https://localhost:8080/"
        },
        "id": "ZzmoH3Zw6riX",
        "outputId": "29746f1c-0a1d-4f75-8b34-59828d372593"
      },
      "execution_count": null,
      "outputs": [
        {
          "output_type": "stream",
          "name": "stdout",
          "text": [
            "5 <class 'str'>\n"
          ]
        }
      ]
    },
    {
      "cell_type": "code",
      "source": [
        "a=\"1\"\n",
        "b=int(a)\n",
        "print(type(b))"
      ],
      "metadata": {
        "colab": {
          "base_uri": "https://localhost:8080/"
        },
        "id": "VtQgafJs8Nx5",
        "outputId": "79e279df-daa7-4ff1-da19-f835af124a75"
      },
      "execution_count": null,
      "outputs": [
        {
          "output_type": "stream",
          "name": "stdout",
          "text": [
            "<class 'int'>\n"
          ]
        }
      ]
    },
    {
      "cell_type": "code",
      "source": [
        "l=[\"merin\",\"maria\",\"jiji\",\"smitha\"]\n",
        "k=tuple(l)\n",
        "print(k)"
      ],
      "metadata": {
        "colab": {
          "base_uri": "https://localhost:8080/"
        },
        "id": "eofe-tYF8pUN",
        "outputId": "63bd2e1e-5c90-43c0-f124-fe339cd92bb8"
      },
      "execution_count": null,
      "outputs": [
        {
          "output_type": "stream",
          "name": "stdout",
          "text": [
            "('merin', 'maria', 'jiji', 'smitha')\n"
          ]
        }
      ]
    },
    {
      "cell_type": "code",
      "source": [
        "l=(\"merin\",\"maria\",\"jiji\",\"smitha\")\n",
        "k=list(l)\n",
        "print(k)"
      ],
      "metadata": {
        "colab": {
          "base_uri": "https://localhost:8080/"
        },
        "id": "tGiVb8xs84uZ",
        "outputId": "98a45256-2eb8-40aa-8b10-1bf79c5f08b5"
      },
      "execution_count": null,
      "outputs": [
        {
          "output_type": "stream",
          "name": "stdout",
          "text": [
            "['merin', 'maria', 'jiji', 'smitha']\n"
          ]
        }
      ]
    },
    {
      "cell_type": "code",
      "source": [
        "list(\"abc\")"
      ],
      "metadata": {
        "colab": {
          "base_uri": "https://localhost:8080/"
        },
        "id": "xqfMSH6i9qDe",
        "outputId": "6995b0ee-9df5-4772-f963-8e75be234baf"
      },
      "execution_count": null,
      "outputs": [
        {
          "output_type": "execute_result",
          "data": {
            "text/plain": [
              "['a', 'b', 'c']"
            ]
          },
          "metadata": {},
          "execution_count": 220
        }
      ]
    },
    {
      "cell_type": "code",
      "source": [
        "bool(0)"
      ],
      "metadata": {
        "colab": {
          "base_uri": "https://localhost:8080/"
        },
        "id": "qoYM40_K-J6d",
        "outputId": "38310c3a-c16b-4b25-be87-5bee4e6232bf"
      },
      "execution_count": null,
      "outputs": [
        {
          "output_type": "execute_result",
          "data": {
            "text/plain": [
              "False"
            ]
          },
          "metadata": {},
          "execution_count": 221
        }
      ]
    },
    {
      "cell_type": "code",
      "source": [
        "import keyword\n",
        "print(keyword.kwlist)"
      ],
      "metadata": {
        "colab": {
          "base_uri": "https://localhost:8080/"
        },
        "id": "s2K_5bAs-RQ2",
        "outputId": "8a126a3e-bf2b-48d8-844f-304331cfff9b"
      },
      "execution_count": null,
      "outputs": [
        {
          "output_type": "stream",
          "name": "stdout",
          "text": [
            "['False', 'None', 'True', 'and', 'as', 'assert', 'async', 'await', 'break', 'class', 'continue', 'def', 'del', 'elif', 'else', 'except', 'finally', 'for', 'from', 'global', 'if', 'import', 'in', 'is', 'lambda', 'nonlocal', 'not', 'or', 'pass', 'raise', 'return', 'try', 'while', 'with', 'yield']\n"
          ]
        }
      ]
    },
    {
      "cell_type": "code",
      "source": [
        "domain=[\"data\", \"science\"]\n",
        "\"_\".join(domain)"
      ],
      "metadata": {
        "colab": {
          "base_uri": "https://localhost:8080/",
          "height": 36
        },
        "id": "p_6WShNS_REo",
        "outputId": "3a93683d-42cf-455f-df39-36ae7000f6ef"
      },
      "execution_count": null,
      "outputs": [
        {
          "output_type": "execute_result",
          "data": {
            "text/plain": [
              "'data_science'"
            ],
            "application/vnd.google.colaboratory.intrinsic+json": {
              "type": "string"
            }
          },
          "metadata": {},
          "execution_count": 224
        }
      ]
    },
    {
      "cell_type": "code",
      "source": [
        "x=[1,2,3]\n",
        "x.append(4)\n",
        "print(x)\n",
        "x.extend([5,6])\n",
        "print(x)\n",
        "x.remove(2)\n",
        "print(x)\n",
        "x.insert(0,10)\n",
        "print(x)\n"
      ],
      "metadata": {
        "colab": {
          "base_uri": "https://localhost:8080/"
        },
        "id": "HeekiFSOAnJP",
        "outputId": "30c61969-8f29-497e-e9bf-6e3fcee58458"
      },
      "execution_count": null,
      "outputs": [
        {
          "output_type": "stream",
          "name": "stdout",
          "text": [
            "[1, 2, 3, 4]\n",
            "[1, 2, 3, 4, 5, 6]\n",
            "[1, 3, 4, 5, 6]\n",
            "[10, 1, 3, 4, 5, 6]\n"
          ]
        }
      ]
    },
    {
      "cell_type": "code",
      "source": [
        "y=input(\"Enter the date\").split(\"/\")\n",
        "print(\"-\".join(y))\n",
        "print(y[1],\"-\",y[0],\"-\",y[2])\n",
        "print(y[2],\"|\",y[0],\"-\",y[1])"
      ],
      "metadata": {
        "colab": {
          "base_uri": "https://localhost:8080/"
        },
        "id": "482ss58NDU6T",
        "outputId": "7244c5e4-0e9c-466f-a78b-750c70d46db2"
      },
      "execution_count": null,
      "outputs": [
        {
          "output_type": "stream",
          "name": "stdout",
          "text": [
            "Enter the date20/11/2025\n",
            "20-11-2025\n",
            "11 - 20 - 2025\n",
            "2025 | 20 - 11\n"
          ]
        }
      ]
    },
    {
      "cell_type": "markdown",
      "source": [
        "for loop"
      ],
      "metadata": {
        "id": "9QR1R0ULzLul"
      }
    },
    {
      "cell_type": "code",
      "source": [
        "\n",
        "\n",
        "\n",
        "\n",
        "l={'tomato':10, 'carrot':40, 'banana':30, 'curd':20, 'milk':25, 'rice':50, 'wheat':15}\n",
        "my_budget=150\n",
        "my_list=[]\n",
        "tot_price=0\n",
        "for a,b in l.items():\n",
        "  if b<my_budget and tot_price+b<=my_budget:\n",
        "    my_list.append(a)\n",
        "    tot_price=tot_price+b\n",
        "print(my_list)"
      ],
      "metadata": {
        "colab": {
          "base_uri": "https://localhost:8080/"
        },
        "id": "4AmK_yBMzJq8",
        "outputId": "6653690c-4aaf-425e-ea62-87bf9448b337"
      },
      "execution_count": null,
      "outputs": [
        {
          "output_type": "stream",
          "name": "stdout",
          "text": [
            "['tomato', 'carrot', 'banana', 'curd', 'milk', 'wheat']\n"
          ]
        }
      ]
    },
    {
      "cell_type": "code",
      "source": [
        "for i in range(1,101):\n",
        "  if i%3==0 and i%5==0:\n",
        "    print(i)"
      ],
      "metadata": {
        "colab": {
          "base_uri": "https://localhost:8080/"
        },
        "id": "h2XW2oJT3i6a",
        "outputId": "c84ec540-df60-425d-cbf5-8d41c2372396"
      },
      "execution_count": null,
      "outputs": [
        {
          "output_type": "stream",
          "name": "stdout",
          "text": [
            "15\n",
            "30\n",
            "45\n",
            "60\n",
            "75\n",
            "90\n"
          ]
        }
      ]
    },
    {
      "cell_type": "markdown",
      "source": [
        "while"
      ],
      "metadata": {
        "id": "OXoe-TKuAUPc"
      }
    },
    {
      "cell_type": "code",
      "source": [
        "A=1\n",
        "while A<10:\n",
        "  print(A)\n",
        "  A=A+2\n",
        "else:\n",
        "  print(\"the limit has crossed\")"
      ],
      "metadata": {
        "colab": {
          "base_uri": "https://localhost:8080/"
        },
        "id": "YKDAAkfu6D2i",
        "outputId": "efbd05d0-b04d-4378-9e6b-e82906884b1a"
      },
      "execution_count": null,
      "outputs": [
        {
          "output_type": "stream",
          "name": "stdout",
          "text": [
            "1\n",
            "3\n",
            "5\n",
            "7\n",
            "9\n",
            "the limit has crossed\n"
          ]
        }
      ]
    },
    {
      "cell_type": "code",
      "source": [
        "import random\n",
        "a=int(input(\"Enter a number\"))\n",
        "b=random.randint(1, 100)\n",
        "while a!=b:\n",
        "  if a<b:\n",
        "    print(\"Guess greater\")\n",
        "    a=int(input(\"Enter a number\"))\n",
        "  elif a>b:\n",
        "    print(\"Guess lesser\")\n",
        "    a=int(input(\"Enter a number\"))\n",
        "else:\n",
        "  print(\"your ans is correct\")"
      ],
      "metadata": {
        "colab": {
          "base_uri": "https://localhost:8080/"
        },
        "id": "btBpUXGtATVX",
        "outputId": "c960fe70-a369-4252-c45f-1196127629f0"
      },
      "execution_count": null,
      "outputs": [
        {
          "output_type": "stream",
          "name": "stdout",
          "text": [
            "Enter a number12\n",
            "Guess greater\n",
            "Enter a number30\n",
            "Guess greater\n",
            "Enter a number40\n",
            "Guess greater\n",
            "Enter a number50\n",
            "Guess greater\n",
            "Enter a number60\n",
            "Guess greater\n",
            "Enter a number70\n",
            "Guess greater\n",
            "Enter a number80\n",
            "Guess greater\n",
            "Enter a number90\n",
            "Guess lesser\n",
            "Enter a number88\n",
            "Guess greater\n",
            "Enter a number89\n",
            "your ans is correct\n"
          ]
        }
      ]
    },
    {
      "cell_type": "code",
      "source": [
        "a=input(\"Enter the password:\")\n",
        "b=\"3142\"\n",
        "i=1\n",
        "while a!=b:\n",
        "    print(\"wrong password\")\n",
        "    print(3-i,\"attempts are left\")\n",
        "    a=input(\"Enter the password:\")\n",
        "    i=i+1\n",
        "    if i==3:\n",
        "      print(\"Retry after 2hr\")\n",
        "      break\n",
        "else:\n",
        "  print(\"your ans is correct\")"
      ],
      "metadata": {
        "colab": {
          "base_uri": "https://localhost:8080/"
        },
        "id": "U1bLFLZHHP2f",
        "outputId": "f2d873ae-ad90-439a-a4ff-463a8c8292b6"
      },
      "execution_count": null,
      "outputs": [
        {
          "output_type": "stream",
          "name": "stdout",
          "text": [
            "Enter the password:2567\n",
            "wrong password\n",
            "2 attempts are left\n",
            "Enter the password:3142\n",
            "your ans is correct\n"
          ]
        }
      ]
    },
    {
      "cell_type": "code",
      "source": [
        "dic={'movie A':3, 'movie B':8, 'movie C': 7, 'movie D': 6, 'movie E':9}\n",
        "i=0"
      ],
      "metadata": {
        "id": "iVmbRlDfOJz-"
      },
      "execution_count": null,
      "outputs": []
    },
    {
      "cell_type": "code",
      "source": [
        "for a,b in dic.items():\n",
        "  print(a,b)\n",
        "  if dic[a]==5:\n",
        "    dic[a]=9\n",
        "  elif dic[a]==8:\n",
        "    dic[a]=5\n",
        "\n",
        "print(dic)"
      ],
      "metadata": {
        "colab": {
          "base_uri": "https://localhost:8080/"
        },
        "id": "j-Tz1itnxyAj",
        "outputId": "2f80b918-2961-4a30-f4fd-77a42cf3651a"
      },
      "execution_count": null,
      "outputs": [
        {
          "output_type": "stream",
          "name": "stdout",
          "text": [
            "movie A 3\n",
            "movie B 8\n",
            "movie C 7\n",
            "movie D 6\n",
            "movie E 9\n",
            "{'movie A': 3, 'movie B': 5, 'movie C': 7, 'movie D': 6, 'movie E': 9}\n"
          ]
        }
      ]
    },
    {
      "cell_type": "code",
      "source": [
        "dic.update({'movie F': 5, 'movie G': 1})"
      ],
      "metadata": {
        "id": "MScJ7YSZx7TD"
      },
      "execution_count": null,
      "outputs": []
    },
    {
      "cell_type": "code",
      "source": [
        "print(dic)"
      ],
      "metadata": {
        "colab": {
          "base_uri": "https://localhost:8080/"
        },
        "id": "oDTIcWGl0o7C",
        "outputId": "a93379fc-09d5-4759-9ad0-d4b7e8826a60"
      },
      "execution_count": null,
      "outputs": [
        {
          "output_type": "stream",
          "name": "stdout",
          "text": [
            "{'movie A': 3, 'movie B': 5, 'movie C': 7, 'movie D': 6, 'movie E': 9, 'movie F': 5, 'movie G': 1}\n"
          ]
        }
      ]
    },
    {
      "cell_type": "code",
      "source": [
        "g=dic['movie A']\n",
        "for a,b in dic.items():\n",
        "  if g<dic[a]:\n",
        "    g=dic[a]\n",
        "    h=a\n",
        "print(h)\n"
      ],
      "metadata": {
        "colab": {
          "base_uri": "https://localhost:8080/"
        },
        "id": "KPumfXE-0rHz",
        "outputId": "9eb9356d-0b21-4dde-85fe-18d4279bdf4d"
      },
      "execution_count": null,
      "outputs": [
        {
          "output_type": "stream",
          "name": "stdout",
          "text": [
            "movie E\n"
          ]
        }
      ]
    },
    {
      "cell_type": "code",
      "source": [
        "def greet(name, age):\n",
        "  print(\"My namr is\",name, \"i am\",age)\n",
        "greet('Merin',23)\n",
        "greet('Maria',19)"
      ],
      "metadata": {
        "colab": {
          "base_uri": "https://localhost:8080/"
        },
        "id": "3JPZFElWwJWo",
        "outputId": "9996e770-e1bd-4459-a7c0-69c602547780"
      },
      "execution_count": null,
      "outputs": [
        {
          "output_type": "stream",
          "name": "stdout",
          "text": [
            "My namr is Merin i am 23\n",
            "My namr is Maria i am 19\n"
          ]
        }
      ]
    },
    {
      "cell_type": "code",
      "source": [
        "def greet(name, age=19):#default value for age\n",
        "  print(\"My namr is\",name, \"i am\",age)\n",
        "greet('Merin',23)\n",
        "greet('Maria')"
      ],
      "metadata": {
        "colab": {
          "base_uri": "https://localhost:8080/"
        },
        "id": "vdnlyVM0wmym",
        "outputId": "57733259-23df-4caa-e830-83b040313d17"
      },
      "execution_count": null,
      "outputs": [
        {
          "output_type": "stream",
          "name": "stdout",
          "text": [
            "My namr is Merin i am 23\n",
            "My namr is Maria i am 19\n"
          ]
        }
      ]
    },
    {
      "cell_type": "code",
      "source": [
        "def multiply(a,b):\n",
        "  print(a,\"*\",b,\"=\",a*b)\n",
        "num1=int(input(\"enter the value:\"))\n",
        "num2=int(input(\"enter the value:\"))\n",
        "multiply(num1,num2)"
      ],
      "metadata": {
        "colab": {
          "base_uri": "https://localhost:8080/"
        },
        "id": "DVGzznDFxr32",
        "outputId": "6cf3074c-a21e-4cf0-eb1e-2e1d04ea3418"
      },
      "execution_count": null,
      "outputs": [
        {
          "output_type": "stream",
          "name": "stdout",
          "text": [
            "enter the value:3\n",
            "enter the value:4\n",
            "3 * 4 = 12\n"
          ]
        }
      ]
    },
    {
      "cell_type": "code",
      "source": [
        "def bill(total):\n",
        "  if total<500:\n",
        "    a=total*10/100\n",
        "  elif 1000>total>=500:\n",
        "    a=total*15/100\n",
        "  elif total>=1000:\n",
        "    a=total*20/100\n",
        "  print(\"the total amount is\",total+a)\n",
        "t=int(input(\"Enter the amount:\"))\n",
        "bill(t)"
      ],
      "metadata": {
        "colab": {
          "base_uri": "https://localhost:8080/"
        },
        "id": "Vkf0WE15yaUa",
        "outputId": "4fa0ef8f-ed1b-42f6-85e6-1e31b284b8ff"
      },
      "execution_count": null,
      "outputs": [
        {
          "output_type": "stream",
          "name": "stdout",
          "text": [
            "Enter the amount:35\n",
            "the total amount is 38.5\n"
          ]
        }
      ]
    },
    {
      "cell_type": "code",
      "source": [
        "from re import I\n",
        "num_list=[12,4,5,7,8,13,10,21]\n",
        "\n",
        "def average_even(numberlist):\n",
        "  i=0\n",
        "  s=0\n",
        "  even_list=[]\n",
        "  odd_list=[]\n",
        "  for num in numberlist:\n",
        "    if num%2==0:\n",
        "      even_list.append(num)\n",
        "      s=s+num\n",
        "      i=i+1\n",
        "    else:\n",
        "       odd_list.append(num)\n",
        "       r=r+num\n",
        "       j=j+1\n",
        "  print(even_list)\n",
        "  print(odd_list)\n",
        "  print(s/i)\n",
        "  print(r/j)\n",
        "average_even(num_list)\n"
      ],
      "metadata": {
        "colab": {
          "base_uri": "https://localhost:8080/",
          "height": 308
        },
        "id": "R0d0DNw02m9B",
        "outputId": "4bd0f073-669c-4220-bc88-dd626b062e99"
      },
      "execution_count": null,
      "outputs": [
        {
          "output_type": "error",
          "ename": "UnboundLocalError",
          "evalue": "cannot access local variable 'r' where it is not associated with a value",
          "traceback": [
            "\u001b[0;31m---------------------------------------------------------------------------\u001b[0m",
            "\u001b[0;31mUnboundLocalError\u001b[0m                         Traceback (most recent call last)",
            "\u001b[0;32m/tmp/ipython-input-262088495.py\u001b[0m in \u001b[0;36m<cell line: 0>\u001b[0;34m()\u001b[0m\n\u001b[1;32m     20\u001b[0m   \u001b[0mprint\u001b[0m\u001b[0;34m(\u001b[0m\u001b[0ms\u001b[0m\u001b[0;34m/\u001b[0m\u001b[0mi\u001b[0m\u001b[0;34m)\u001b[0m\u001b[0;34m\u001b[0m\u001b[0;34m\u001b[0m\u001b[0m\n\u001b[1;32m     21\u001b[0m   \u001b[0mprint\u001b[0m\u001b[0;34m(\u001b[0m\u001b[0mr\u001b[0m\u001b[0;34m/\u001b[0m\u001b[0mj\u001b[0m\u001b[0;34m)\u001b[0m\u001b[0;34m\u001b[0m\u001b[0;34m\u001b[0m\u001b[0m\n\u001b[0;32m---> 22\u001b[0;31m \u001b[0maverage_even\u001b[0m\u001b[0;34m(\u001b[0m\u001b[0mnum_list\u001b[0m\u001b[0;34m)\u001b[0m\u001b[0;34m\u001b[0m\u001b[0;34m\u001b[0m\u001b[0m\n\u001b[0m",
            "\u001b[0;32m/tmp/ipython-input-262088495.py\u001b[0m in \u001b[0;36maverage_even\u001b[0;34m(numberlist)\u001b[0m\n\u001b[1;32m     14\u001b[0m     \u001b[0;32melse\u001b[0m\u001b[0;34m:\u001b[0m\u001b[0;34m\u001b[0m\u001b[0;34m\u001b[0m\u001b[0m\n\u001b[1;32m     15\u001b[0m        \u001b[0modd_list\u001b[0m\u001b[0;34m.\u001b[0m\u001b[0mappend\u001b[0m\u001b[0;34m(\u001b[0m\u001b[0mnum\u001b[0m\u001b[0;34m)\u001b[0m\u001b[0;34m\u001b[0m\u001b[0;34m\u001b[0m\u001b[0m\n\u001b[0;32m---> 16\u001b[0;31m        \u001b[0mr\u001b[0m\u001b[0;34m=\u001b[0m\u001b[0mr\u001b[0m\u001b[0;34m+\u001b[0m\u001b[0mnum\u001b[0m\u001b[0;34m\u001b[0m\u001b[0;34m\u001b[0m\u001b[0m\n\u001b[0m\u001b[1;32m     17\u001b[0m        \u001b[0mj\u001b[0m\u001b[0;34m=\u001b[0m\u001b[0mj\u001b[0m\u001b[0;34m+\u001b[0m\u001b[0;36m1\u001b[0m\u001b[0;34m\u001b[0m\u001b[0;34m\u001b[0m\u001b[0m\n\u001b[1;32m     18\u001b[0m   \u001b[0mprint\u001b[0m\u001b[0;34m(\u001b[0m\u001b[0meven_list\u001b[0m\u001b[0;34m)\u001b[0m\u001b[0;34m\u001b[0m\u001b[0;34m\u001b[0m\u001b[0m\n",
            "\u001b[0;31mUnboundLocalError\u001b[0m: cannot access local variable 'r' where it is not associated with a value"
          ]
        }
      ]
    },
    {
      "cell_type": "code",
      "source": [
        "def sum_numbers(*args):#* arbitary arguments\n",
        "  print(type(args))\n",
        "  total=0\n",
        "  for i in args:\n",
        "    total=total+i\n",
        "  print(total)\n",
        "sum_numbers(2,3,4)\n"
      ],
      "metadata": {
        "colab": {
          "base_uri": "https://localhost:8080/"
        },
        "id": "8xMj9AyI_Dov",
        "outputId": "a0251655-c11f-4091-d2eb-091a523cd7c4"
      },
      "execution_count": null,
      "outputs": [
        {
          "output_type": "stream",
          "name": "stdout",
          "text": [
            "<class 'tuple'>\n",
            "9\n"
          ]
        }
      ]
    },
    {
      "cell_type": "code",
      "source": [
        "def numbers(**arg):#** keyword Arguement\n",
        "  for a,b in arg.items():\n",
        "    print(a,\"is\",b)\n",
        "numbers(name=\"Merin\", place=\"kozhikode\")"
      ],
      "metadata": {
        "colab": {
          "base_uri": "https://localhost:8080/"
        },
        "id": "1iOvWlCAAMXt",
        "outputId": "01ac31e0-3aa9-4ea5-f428-76b358574751"
      },
      "execution_count": null,
      "outputs": [
        {
          "output_type": "stream",
          "name": "stdout",
          "text": [
            "name is Merin\n",
            "place is kozhikode\n"
          ]
        }
      ]
    },
    {
      "cell_type": "code",
      "source": [
        "def squareofnum(x):\n",
        "  y=x*x\n",
        "  print(y)\n",
        "squareofnum(3)"
      ],
      "metadata": {
        "colab": {
          "base_uri": "https://localhost:8080/"
        },
        "id": "8GxItJu_Bv3c",
        "outputId": "8d060077-b0c5-4dcf-ef41-1881517bb201"
      },
      "execution_count": null,
      "outputs": [
        {
          "output_type": "stream",
          "name": "stdout",
          "text": [
            "9\n"
          ]
        }
      ]
    },
    {
      "cell_type": "code",
      "source": [
        "square=lambda x:x*x\n",
        "square(5)"
      ],
      "metadata": {
        "colab": {
          "base_uri": "https://localhost:8080/"
        },
        "id": "SOxq-iiSLhWz",
        "outputId": "4fc6915a-f1d9-4433-a106-b83ab3400b6b"
      },
      "execution_count": null,
      "outputs": [
        {
          "output_type": "execute_result",
          "data": {
            "text/plain": [
              "25"
            ]
          },
          "metadata": {},
          "execution_count": 246
        }
      ]
    },
    {
      "cell_type": "code",
      "source": [
        "add = lambda x,y : x+y\n",
        "add(3,5)"
      ],
      "metadata": {
        "colab": {
          "base_uri": "https://localhost:8080/"
        },
        "id": "qEsfiTp2LqN5",
        "outputId": "3aff6651-430c-46b3-e2d9-5e2bef52010d"
      },
      "execution_count": null,
      "outputs": [
        {
          "output_type": "execute_result",
          "data": {
            "text/plain": [
              "8"
            ]
          },
          "metadata": {},
          "execution_count": 247
        }
      ]
    },
    {
      "cell_type": "code",
      "source": [
        "def  Totalmark(marks):\n",
        "  return sum(marks)\n",
        "finalscore = Totalmark([10,20,30,40,50])\n",
        "if finalscore>50:\n",
        "  print(\"pass\")\n"
      ],
      "metadata": {
        "colab": {
          "base_uri": "https://localhost:8080/",
          "height": 345
        },
        "id": "X3wt5LkpMbzl",
        "outputId": "94da5066-625b-436a-e711-be2a5db68e37"
      },
      "execution_count": null,
      "outputs": [
        {
          "output_type": "error",
          "ename": "TypeError",
          "evalue": "'int' object is not callable",
          "traceback": [
            "\u001b[0;31m---------------------------------------------------------------------------\u001b[0m",
            "\u001b[0;31mTypeError\u001b[0m                                 Traceback (most recent call last)",
            "\u001b[0;32m/tmp/ipython-input-1704332868.py\u001b[0m in \u001b[0;36m<cell line: 0>\u001b[0;34m()\u001b[0m\n\u001b[1;32m      1\u001b[0m \u001b[0;32mdef\u001b[0m  \u001b[0mTotalmark\u001b[0m\u001b[0;34m(\u001b[0m\u001b[0mmarks\u001b[0m\u001b[0;34m)\u001b[0m\u001b[0;34m:\u001b[0m\u001b[0;34m\u001b[0m\u001b[0;34m\u001b[0m\u001b[0m\n\u001b[1;32m      2\u001b[0m   \u001b[0;32mreturn\u001b[0m \u001b[0msum\u001b[0m\u001b[0;34m(\u001b[0m\u001b[0mmarks\u001b[0m\u001b[0;34m)\u001b[0m\u001b[0;34m\u001b[0m\u001b[0;34m\u001b[0m\u001b[0m\n\u001b[0;32m----> 3\u001b[0;31m \u001b[0mfinalscore\u001b[0m \u001b[0;34m=\u001b[0m \u001b[0mTotalmark\u001b[0m\u001b[0;34m(\u001b[0m\u001b[0;34m[\u001b[0m\u001b[0;36m10\u001b[0m\u001b[0;34m,\u001b[0m\u001b[0;36m20\u001b[0m\u001b[0;34m,\u001b[0m\u001b[0;36m30\u001b[0m\u001b[0;34m,\u001b[0m\u001b[0;36m40\u001b[0m\u001b[0;34m,\u001b[0m\u001b[0;36m50\u001b[0m\u001b[0;34m]\u001b[0m\u001b[0;34m)\u001b[0m\u001b[0;34m\u001b[0m\u001b[0;34m\u001b[0m\u001b[0m\n\u001b[0m\u001b[1;32m      4\u001b[0m \u001b[0;32mif\u001b[0m \u001b[0mfinalscore\u001b[0m\u001b[0;34m>\u001b[0m\u001b[0;36m50\u001b[0m\u001b[0;34m:\u001b[0m\u001b[0;34m\u001b[0m\u001b[0;34m\u001b[0m\u001b[0m\n\u001b[1;32m      5\u001b[0m   \u001b[0mprint\u001b[0m\u001b[0;34m(\u001b[0m\u001b[0;34m\"pass\"\u001b[0m\u001b[0;34m)\u001b[0m\u001b[0;34m\u001b[0m\u001b[0;34m\u001b[0m\u001b[0m\n",
            "\u001b[0;32m/tmp/ipython-input-1704332868.py\u001b[0m in \u001b[0;36mTotalmark\u001b[0;34m(marks)\u001b[0m\n\u001b[1;32m      1\u001b[0m \u001b[0;32mdef\u001b[0m  \u001b[0mTotalmark\u001b[0m\u001b[0;34m(\u001b[0m\u001b[0mmarks\u001b[0m\u001b[0;34m)\u001b[0m\u001b[0;34m:\u001b[0m\u001b[0;34m\u001b[0m\u001b[0;34m\u001b[0m\u001b[0m\n\u001b[0;32m----> 2\u001b[0;31m   \u001b[0;32mreturn\u001b[0m \u001b[0msum\u001b[0m\u001b[0;34m(\u001b[0m\u001b[0mmarks\u001b[0m\u001b[0;34m)\u001b[0m\u001b[0;34m\u001b[0m\u001b[0;34m\u001b[0m\u001b[0m\n\u001b[0m\u001b[1;32m      3\u001b[0m \u001b[0mfinalscore\u001b[0m \u001b[0;34m=\u001b[0m \u001b[0mTotalmark\u001b[0m\u001b[0;34m(\u001b[0m\u001b[0;34m[\u001b[0m\u001b[0;36m10\u001b[0m\u001b[0;34m,\u001b[0m\u001b[0;36m20\u001b[0m\u001b[0;34m,\u001b[0m\u001b[0;36m30\u001b[0m\u001b[0;34m,\u001b[0m\u001b[0;36m40\u001b[0m\u001b[0;34m,\u001b[0m\u001b[0;36m50\u001b[0m\u001b[0;34m]\u001b[0m\u001b[0;34m)\u001b[0m\u001b[0;34m\u001b[0m\u001b[0;34m\u001b[0m\u001b[0m\n\u001b[1;32m      4\u001b[0m \u001b[0;32mif\u001b[0m \u001b[0mfinalscore\u001b[0m\u001b[0;34m>\u001b[0m\u001b[0;36m50\u001b[0m\u001b[0;34m:\u001b[0m\u001b[0;34m\u001b[0m\u001b[0;34m\u001b[0m\u001b[0m\n\u001b[1;32m      5\u001b[0m   \u001b[0mprint\u001b[0m\u001b[0;34m(\u001b[0m\u001b[0;34m\"pass\"\u001b[0m\u001b[0;34m)\u001b[0m\u001b[0;34m\u001b[0m\u001b[0;34m\u001b[0m\u001b[0m\n",
            "\u001b[0;31mTypeError\u001b[0m: 'int' object is not callable"
          ]
        }
      ]
    },
    {
      "cell_type": "markdown",
      "source": [
        "Object Oriented Programming(OOP)"
      ],
      "metadata": {
        "id": "kjHIi-9EPfwd"
      }
    },
    {
      "cell_type": "markdown",
      "source": [
        "\n",
        "\n",
        "1.   class - blueprint, attributes- variables in class(feature of class), methods- function used inside class.\n",
        "2.  encapsulation- functions inside class cannot be called\n",
        "3. object/instance-\n",
        "\n",
        "\n",
        "\n",
        "\n",
        "\n",
        "inheritance\n",
        "polymorphism\n",
        "\n",
        "abstraction"
      ],
      "metadata": {
        "id": "HXi0xIqCPuF9"
      }
    },
    {
      "cell_type": "code",
      "source": [
        "class Animal:\n",
        "  animal_type=\"dog\"\n",
        "  num_legs=4\n",
        "  mammal=\"Yes\"\n",
        "  def sound(self):#self- is pointer to identify the instance\n",
        "    print(\"bark\")\n",
        "obj1=Animal()#instance\n",
        "print(obj1.animal_type)\n",
        "obj1.sound()\n",
        "\n"
      ],
      "metadata": {
        "colab": {
          "base_uri": "https://localhost:8080/"
        },
        "id": "0e6iHy9pNob3",
        "outputId": "cb471588-c744-4fce-92b1-3aa00de57aa4"
      },
      "execution_count": null,
      "outputs": [
        {
          "output_type": "stream",
          "name": "stdout",
          "text": [
            "dog\n",
            "bark\n"
          ]
        }
      ]
    },
    {
      "cell_type": "code",
      "source": [
        "class person:\n",
        "  place=\"tvm\"\n",
        "\n",
        "  def __init__(self,name,age):#constructor\n",
        "    self.name=name\n",
        "    self.age=age\n",
        "  def greet(self):\n",
        "    return f\"Hi, myself {self.name} and my age is {self.age} i am from {self.place}\"\n",
        "obj1=person('Merin',23)\n",
        "print(obj1.greet())\n",
        "obj2=person('Maria',19)\n",
        "print(obj2.greet())"
      ],
      "metadata": {
        "colab": {
          "base_uri": "https://localhost:8080/"
        },
        "id": "7OhOpfsOT5Xn",
        "outputId": "61991d81-9ca2-4f3c-c002-6a621fdcd905"
      },
      "execution_count": null,
      "outputs": [
        {
          "output_type": "stream",
          "name": "stdout",
          "text": [
            "Hi, myself Merin and my age is 23 i am from tvm\n",
            "Hi, myself Maria and my age is 19 i am from tvm\n"
          ]
        }
      ]
    },
    {
      "cell_type": "code",
      "source": [
        "class Employee:\n",
        "  def __init__(self, name, emp_id,salary):\n",
        "    self.name=name\n",
        "    self.emp_id=emp_id\n",
        "    self.salary=salary\n",
        "  def display_info(self):\n",
        "    print(f\"Name: {self.name}\")\n",
        "    print(f\"Employee ID: {self.emp_id}\")\n",
        "    print(f\"Salary:{self.salary}\")\n",
        "class Manager(Employee):\n",
        "  def __init__(self, name, emp_id,salary, dept, teamSize, ):\n",
        "    super().__init__(name, emp_id,salary)\n",
        "    self.dept=dept\n",
        "    self.teamSize=teamSize\n",
        "  def display_manager_info(self):\n",
        "    self.display_info()\n",
        "    print(f\"Department: {self.dept}\")\n",
        "    print(f\"TeamSize: {self.teamSize}\")\n",
        "class Teamleader(Manager):\n",
        "  def __init__(self, name, emp_id,salary, dept, teamSize, experience):\n",
        "    super().__init__(name, emp_id,salary, dept, teamSize)\n",
        "    self.experience=experience\n",
        "  def display_leader_info(self):\n",
        "    self.display_manager_info()\n",
        "    print(f\"Experience: {self.experience}\")\n",
        "\n",
        "obj1=Employee('Merin',1234,1000000)\n",
        "obj1.display_info()\n",
        "\n",
        "man1=Manager('Merin', 1234, 1000000, 'Mathematics', 5)\n",
        "man1.display_manager_info()\n",
        "\n",
        "te1=Teamleader('Merin', 1234, 1000000, 'Mathematics', 5, 4)\n",
        "te1.display_leader_info()"
      ],
      "metadata": {
        "colab": {
          "base_uri": "https://localhost:8080/"
        },
        "id": "pvVuopfzY__M",
        "outputId": "8f02c1f8-8e11-4c0f-b575-0883a55ca1d2"
      },
      "execution_count": null,
      "outputs": [
        {
          "output_type": "stream",
          "name": "stdout",
          "text": [
            "Name: Merin\n",
            "Employee ID: 1234\n",
            "Salary:1000000\n",
            "Name: Merin\n",
            "Employee ID: 1234\n",
            "Salary:1000000\n",
            "Department: Mathematics\n",
            "TeamSize: 5\n",
            "Name: Merin\n",
            "Employee ID: 1234\n",
            "Salary:1000000\n",
            "Department: Mathematics\n",
            "TeamSize: 5\n",
            "Experience: 4\n"
          ]
        }
      ]
    },
    {
      "cell_type": "code",
      "source": [
        "l=[5,8,2,7,3,8,10,10]\n",
        "l.sort()\n",
        "print(l)"
      ],
      "metadata": {
        "colab": {
          "base_uri": "https://localhost:8080/"
        },
        "id": "9VEgXHiizBvZ",
        "outputId": "f08f496c-9561-4242-9bcb-12da17fc47ca"
      },
      "execution_count": null,
      "outputs": [
        {
          "output_type": "stream",
          "name": "stdout",
          "text": [
            "[2, 3, 5, 7, 8, 8, 10, 10]\n"
          ]
        }
      ]
    },
    {
      "cell_type": "code",
      "source": [
        "a=0\n",
        "for i in range (len(l)):\n",
        "  a=a+l[i]\n",
        "mean=a/len(l)\n",
        "print(mean)"
      ],
      "metadata": {
        "colab": {
          "base_uri": "https://localhost:8080/"
        },
        "id": "4DyNfAMszDQK",
        "outputId": "03a37fe1-2183-4db4-bb4d-ff03ca87af38"
      },
      "execution_count": null,
      "outputs": [
        {
          "output_type": "stream",
          "name": "stdout",
          "text": [
            "6.625\n"
          ]
        }
      ]
    },
    {
      "cell_type": "code",
      "source": [
        "if len(l)%2==0:\n",
        "  med=(l[(len(l)//2)-1]+l[(len(l)//2)])/2\n",
        "else:\n",
        "  med=l[len(l)//2]\n",
        "print(med)"
      ],
      "metadata": {
        "colab": {
          "base_uri": "https://localhost:8080/"
        },
        "id": "4nzs7HEnzpGw",
        "outputId": "783467c3-ce9f-45b3-a5f0-25a2a9c530cb"
      },
      "execution_count": null,
      "outputs": [
        {
          "output_type": "stream",
          "name": "stdout",
          "text": [
            "7.5\n"
          ]
        }
      ]
    },
    {
      "cell_type": "code",
      "source": [
        "mod=3*med-2*mean\n",
        "print(mod)"
      ],
      "metadata": {
        "colab": {
          "base_uri": "https://localhost:8080/"
        },
        "id": "QeVdulEj0ByQ",
        "outputId": "ff3cfef3-479e-4cae-a0db-b06bc44ce315"
      },
      "execution_count": null,
      "outputs": [
        {
          "output_type": "stream",
          "name": "stdout",
          "text": [
            "9.25\n"
          ]
        }
      ]
    },
    {
      "cell_type": "code",
      "source": [
        "l=[78, 85, 95, 50, 88, 45, 82, 91, 75, 60]\n",
        "l.sort()\n",
        "print(l)"
      ],
      "metadata": {
        "colab": {
          "base_uri": "https://localhost:8080/"
        },
        "id": "RMfxDtNv0ojA",
        "outputId": "776ff303-eca1-4669-ff0e-3d00915b047f"
      },
      "execution_count": null,
      "outputs": [
        {
          "output_type": "stream",
          "name": "stdout",
          "text": [
            "[45, 50, 60, 75, 78, 82, 85, 88, 91, 95]\n"
          ]
        }
      ]
    },
    {
      "cell_type": "code",
      "source": [
        "a=0\n",
        "for i in range (len(l)):\n",
        "  a=a+l[i]\n",
        "mean=a/len(l)\n",
        "print(mean)"
      ],
      "metadata": {
        "colab": {
          "base_uri": "https://localhost:8080/"
        },
        "id": "Fgf0MO5yDKad",
        "outputId": "0a7418b1-65d0-4ddc-a27e-21614df46b34"
      },
      "execution_count": null,
      "outputs": [
        {
          "output_type": "stream",
          "name": "stdout",
          "text": [
            "74.9\n"
          ]
        }
      ]
    },
    {
      "cell_type": "code",
      "source": [
        "if len(l)%2==0:\n",
        "  med=(l[(len(l)//2)-1]+l[(len(l)//2)])/2\n",
        "else:\n",
        "  med=l[len(l)//2]\n",
        "print(med)"
      ],
      "metadata": {
        "colab": {
          "base_uri": "https://localhost:8080/"
        },
        "id": "WjNAvIXdEowv",
        "outputId": "1d1329a9-d76d-4ae3-ae28-bca958281d93"
      },
      "execution_count": null,
      "outputs": [
        {
          "output_type": "stream",
          "name": "stdout",
          "text": [
            "80.0\n"
          ]
        }
      ]
    },
    {
      "cell_type": "code",
      "source": [
        "w=0\n",
        "for i in range(len(l)):\n",
        "  v=(l[i]-mean)**2\n",
        "  w=w+v\n",
        "var=w/len(l)\n",
        "print(var)"
      ],
      "metadata": {
        "colab": {
          "base_uri": "https://localhost:8080/"
        },
        "id": "op-ZVyr-Ezxr",
        "outputId": "cd354c71-4796-4235-8bc6-318b3e657281"
      },
      "execution_count": null,
      "outputs": [
        {
          "output_type": "stream",
          "name": "stdout",
          "text": [
            "273.29\n"
          ]
        }
      ]
    },
    {
      "cell_type": "code",
      "source": [
        "\n",
        "std=e**(1/2)\n",
        "print(std)"
      ],
      "metadata": {
        "colab": {
          "base_uri": "https://localhost:8080/",
          "height": 164
        },
        "id": "fxegpE-RE8DK",
        "outputId": "54f4bc07-4719-4d36-d050-e0bdab3f82a2"
      },
      "execution_count": null,
      "outputs": [
        {
          "output_type": "error",
          "ename": "NameError",
          "evalue": "name 'e' is not defined",
          "traceback": [
            "\u001b[0;31m---------------------------------------------------------------------------\u001b[0m",
            "\u001b[0;31mNameError\u001b[0m                                 Traceback (most recent call last)",
            "\u001b[0;32m/tmp/ipython-input-109889117.py\u001b[0m in \u001b[0;36m<cell line: 0>\u001b[0;34m()\u001b[0m\n\u001b[0;32m----> 1\u001b[0;31m \u001b[0mstd\u001b[0m\u001b[0;34m=\u001b[0m\u001b[0me\u001b[0m\u001b[0;34m**\u001b[0m\u001b[0;34m(\u001b[0m\u001b[0;36m1\u001b[0m\u001b[0;34m/\u001b[0m\u001b[0;36m2\u001b[0m\u001b[0;34m)\u001b[0m\u001b[0;34m\u001b[0m\u001b[0;34m\u001b[0m\u001b[0m\n\u001b[0m\u001b[1;32m      2\u001b[0m \u001b[0mprint\u001b[0m\u001b[0;34m(\u001b[0m\u001b[0mstd\u001b[0m\u001b[0;34m)\u001b[0m\u001b[0;34m\u001b[0m\u001b[0;34m\u001b[0m\u001b[0m\n",
            "\u001b[0;31mNameError\u001b[0m: name 'e' is not defined"
          ]
        }
      ]
    },
    {
      "cell_type": "code",
      "source": [
        "l=[85, 60, 72, 55, 105, 315, 380, 290, 190, 130, 95, 70]\n",
        "l.sort()\n",
        "print(l)\n"
      ],
      "metadata": {
        "id": "YWzT_1KbINld"
      },
      "execution_count": null,
      "outputs": []
    },
    {
      "cell_type": "code",
      "source": [
        "Q1=l[(len(list1)*25//100)-1]\n",
        "print(Q1)"
      ],
      "metadata": {
        "id": "t6JH2OrIIus0"
      },
      "execution_count": null,
      "outputs": []
    },
    {
      "cell_type": "code",
      "source": [
        "Q2=l[(len(list1)*50//100)-1]\n",
        "print(Q2)"
      ],
      "metadata": {
        "id": "dTivUaBYJHEg"
      },
      "execution_count": null,
      "outputs": []
    },
    {
      "cell_type": "code",
      "source": [
        "Q3=l[(len(list1)*75//100)-1]\n",
        "print(Q3)"
      ],
      "metadata": {
        "id": "jZ5f_HCKJbiF"
      },
      "execution_count": null,
      "outputs": []
    },
    {
      "cell_type": "code",
      "source": [
        "IQR=Q3-Q1\n",
        "print(IQR)"
      ],
      "metadata": {
        "id": "7ZjZCyGHJhqm"
      },
      "execution_count": null,
      "outputs": []
    },
    {
      "cell_type": "code",
      "source": [
        "lower_whisker=Q1-IQR*1.5\n",
        "print(lower_whisker)"
      ],
      "metadata": {
        "id": "nliy3cuNJoNY"
      },
      "execution_count": null,
      "outputs": []
    },
    {
      "cell_type": "code",
      "source": [
        "upper_whisker=Q3+IQR*1.5\n",
        "print(upper_whisker)"
      ],
      "metadata": {
        "id": "Xvgr_rHNKEoa"
      },
      "execution_count": null,
      "outputs": []
    },
    {
      "cell_type": "code",
      "source": [
        "for i in l:\n",
        "  if int(upper_whisker)<i or lower_whisker>i:\n",
        "    print(i)"
      ],
      "metadata": {
        "id": "ltA5aF_CMlk_"
      },
      "execution_count": null,
      "outputs": []
    },
    {
      "cell_type": "code",
      "source": [
        "list1=[200, 220, 210, 300, 250, 400, 240, 260, 500, 230]\n",
        "list2=[50, 55, 52, 80, 60, 100, 58, 65, 120, 54]\n",
        "list1.sort()\n",
        "list2.sort()\n",
        "a=0\n",
        "for i in list1:\n",
        "  a=a+i\n",
        "mean1=a/len(list1)\n",
        "print(mean1)"
      ],
      "metadata": {
        "id": "Cf74nSOrO_oU"
      },
      "execution_count": null,
      "outputs": []
    },
    {
      "cell_type": "code",
      "source": [
        "a=0\n",
        "for i in list2:\n",
        "  a=a+i\n",
        "mean2=a/len(list2)\n",
        "print(mean2)"
      ],
      "metadata": {
        "id": "4mekxLbjQXt1"
      },
      "execution_count": null,
      "outputs": []
    },
    {
      "cell_type": "code",
      "source": [
        "if len(list1)%2==0:\n",
        "  med1=(list1[(len(list1)//2)-1]+list1[(len(list1)//2)])/2\n",
        "else:\n",
        "  med1=list1[len(list1)//2]\n",
        "print(med1)"
      ],
      "metadata": {
        "id": "DuqdmLD2Qbr7"
      },
      "execution_count": null,
      "outputs": []
    },
    {
      "cell_type": "code",
      "source": [
        "if len(list2)%2==0:\n",
        "  med2=(list2[(len(list2)//2)-1]+list2[(len(list2)//2)])/2\n",
        "else:\n",
        "  med2=list2[len(list2)//2]\n",
        "print(med2)"
      ],
      "metadata": {
        "id": "m5H_rEQ6QtMy"
      },
      "execution_count": null,
      "outputs": []
    },
    {
      "cell_type": "code",
      "source": [
        "o=0\n",
        "for i in range(len(list1)):\n",
        "  p=(list1[i]-mean1)**2\n",
        "  o=o+p\n",
        "var1=o/len(list1)\n",
        "print(var1)"
      ],
      "metadata": {
        "id": "k2B6JbX0SlRq"
      },
      "execution_count": null,
      "outputs": []
    },
    {
      "cell_type": "code",
      "source": [
        "o=0\n",
        "for i in range(len(list2)):\n",
        "  p=(list2[i]-mean2)**2\n",
        "  o=o+p\n",
        "var2=o/len(list2)\n",
        "print(var2)"
      ],
      "metadata": {
        "id": "IJMBIJBjT4xl"
      },
      "execution_count": null,
      "outputs": []
    },
    {
      "cell_type": "code",
      "source": [
        "std1=var1**(1/2)\n",
        "print(std1)\n",
        "std2=var2**(1/2)\n",
        "print(std2)"
      ],
      "metadata": {
        "id": "Pi4VAqZ9UIjJ"
      },
      "execution_count": null,
      "outputs": []
    },
    {
      "cell_type": "code",
      "source": [
        "o=0\n",
        "for i,j in range (len(list1), len(list2)):\n",
        "  p=(list1[i]-mean1)*(list2[j]-mean2)\n",
        "  o=o+p\n",
        "cov=o/len(list1)\n",
        "print(cov)"
      ],
      "metadata": {
        "id": "JznEPyWDUZUX"
      },
      "execution_count": null,
      "outputs": []
    },
    {
      "cell_type": "code",
      "source": [
        "coorelation=cov/std1*std2\n",
        "print(coorelation)"
      ],
      "metadata": {
        "id": "kUZtKBwJVSDB"
      },
      "execution_count": null,
      "outputs": []
    },
    {
      "cell_type": "code",
      "source": [
        "## Q2. Write function that returns mean value of a list of numbers\n",
        "def mean(l):\n",
        "  a = 0\n",
        "  for i in range(len(l)):\n",
        "    a = a + l[i]\n",
        "\n",
        "  return a/len(l)"
      ],
      "metadata": {
        "id": "-ecNtjhU-0cL"
      },
      "execution_count": null,
      "outputs": []
    },
    {
      "cell_type": "code",
      "source": [
        "##Q8. Write a function to return standard deviation of a list of numbers\n",
        "def standard_deviation(l):\n",
        "\n",
        "  w = 0\n",
        "  a = 0\n",
        "  mean1 = mean(l)\n",
        "\n",
        "  for i in range(len(l)):\n",
        "\n",
        "    v = (l[i]-mean1)**2\n",
        "    w = w + v\n",
        "    variance = w/(len(l)-1)\n",
        "    standard_dev = variance**(1/2)\n",
        "\n",
        "  return standard_dev"
      ],
      "metadata": {
        "id": "KU7P-_Wuh6ZA"
      },
      "execution_count": null,
      "outputs": []
    },
    {
      "cell_type": "code",
      "source": [
        "a1=mean([50,81,61,63,83,64,75,43])\n",
        "b1=mean([48,50,39,53,60,47,60,85,52,52,63,49])"
      ],
      "metadata": {
        "id": "A55nKy57TiS_"
      },
      "execution_count": null,
      "outputs": []
    },
    {
      "cell_type": "code",
      "source": [
        "a=standard_deviation([50,81,61,63,83,64,75,43])\n",
        "print(a)"
      ],
      "metadata": {
        "id": "BhEJYjiu-gzX"
      },
      "execution_count": null,
      "outputs": []
    },
    {
      "cell_type": "code",
      "source": [
        "b=standard_deviation([48,50,39,53,60,47,60,85,52,52,63,49])\n",
        "print(b)"
      ],
      "metadata": {
        "id": "NLZCDn6hOI2g"
      },
      "execution_count": null,
      "outputs": []
    },
    {
      "cell_type": "code",
      "source": [
        "Sp=((7*a**2+11*b**2)/18)**1/2\n",
        "print(Sp)"
      ],
      "metadata": {
        "id": "kQruutouOFCU"
      },
      "execution_count": null,
      "outputs": []
    },
    {
      "cell_type": "code",
      "source": [
        "t=(a1-b1)/(Sp*((1/8)+(1/12)))"
      ],
      "metadata": {
        "id": "uhsmAW3HTuyP"
      },
      "execution_count": null,
      "outputs": []
    },
    {
      "cell_type": "code",
      "source": [
        "print(t)"
      ],
      "metadata": {
        "id": "jHmoXf_vUE56"
      },
      "execution_count": null,
      "outputs": []
    },
    {
      "cell_type": "markdown",
      "source": [
        "#Library NumPy"
      ],
      "metadata": {
        "id": "b1nB--_aSNX0"
      }
    },
    {
      "cell_type": "code",
      "source": [
        "import numpy as np\n",
        "x = np.array([1,2,3])\n",
        "print(x)\n",
        "type(x)"
      ],
      "metadata": {
        "id": "ETkN12pQSMFH"
      },
      "execution_count": null,
      "outputs": []
    },
    {
      "cell_type": "code",
      "source": [
        "x.shape"
      ],
      "metadata": {
        "id": "fHC0Lzq3SeKH"
      },
      "execution_count": null,
      "outputs": []
    },
    {
      "cell_type": "code",
      "source": [
        "x.dtype #datatype of numbers inside array"
      ],
      "metadata": {
        "id": "aqMNhLwnS8QB"
      },
      "execution_count": null,
      "outputs": []
    },
    {
      "cell_type": "code",
      "source": [
        "y = np.array([[1, 2, 3],\n",
        "              [4, 5, 6],\n",
        "              [7, 8, 9]])\n",
        "print(y)"
      ],
      "metadata": {
        "id": "CuOMByXMTRTK"
      },
      "execution_count": null,
      "outputs": []
    },
    {
      "cell_type": "code",
      "source": [
        "y.shape"
      ],
      "metadata": {
        "id": "73fl51M0TsEO"
      },
      "execution_count": null,
      "outputs": []
    },
    {
      "cell_type": "code",
      "source": [
        "y.dtype"
      ],
      "metadata": {
        "id": "J6kejTe3Ttu3"
      },
      "execution_count": null,
      "outputs": []
    },
    {
      "cell_type": "code",
      "source": [
        "y.size # Number of elements in the array"
      ],
      "metadata": {
        "id": "xOV1t6eMT4uO"
      },
      "execution_count": null,
      "outputs": []
    },
    {
      "cell_type": "code",
      "source": [
        "z=np.array([1.3,2.4,3.5,4.6], dtype=int)\n",
        "print(z)"
      ],
      "metadata": {
        "id": "kUCttPypT-Z4"
      },
      "execution_count": null,
      "outputs": []
    },
    {
      "cell_type": "code",
      "source": [
        "z+3"
      ],
      "metadata": {
        "id": "W4LHDwOuVJdp"
      },
      "execution_count": null,
      "outputs": []
    },
    {
      "cell_type": "code",
      "source": [
        "z-3"
      ],
      "metadata": {
        "id": "iE0Ba4_IVL1F"
      },
      "execution_count": null,
      "outputs": []
    },
    {
      "cell_type": "code",
      "source": [
        "z*3"
      ],
      "metadata": {
        "id": "JE3VjTI7VNYf"
      },
      "execution_count": null,
      "outputs": []
    },
    {
      "cell_type": "code",
      "source": [
        "z/3"
      ],
      "metadata": {
        "id": "MGuHev6GVPea"
      },
      "execution_count": null,
      "outputs": []
    },
    {
      "cell_type": "code",
      "source": [
        "np.zeros((3, 4))"
      ],
      "metadata": {
        "id": "Bi82NDR_WCfa"
      },
      "execution_count": null,
      "outputs": []
    },
    {
      "cell_type": "code",
      "source": [
        "np.ones((2,3))"
      ],
      "metadata": {
        "id": "KwVadUx-WYp3"
      },
      "execution_count": null,
      "outputs": []
    },
    {
      "cell_type": "code",
      "source": [
        "np.eye(4) #identity matrix"
      ],
      "metadata": {
        "id": "_2egsF2AWf6E"
      },
      "execution_count": null,
      "outputs": []
    },
    {
      "cell_type": "code",
      "source": [
        "np.diag([1,2,3,4])"
      ],
      "metadata": {
        "id": "C7qnix48W8mV"
      },
      "execution_count": null,
      "outputs": []
    },
    {
      "cell_type": "code",
      "source": [
        "np.arange(10)"
      ],
      "metadata": {
        "id": "vyZ2ZQwFXltM"
      },
      "execution_count": null,
      "outputs": []
    },
    {
      "cell_type": "code",
      "source": [
        "a=np.arange(1,20,2)"
      ],
      "metadata": {
        "id": "hWen1dDtYBd0"
      },
      "execution_count": null,
      "outputs": []
    },
    {
      "cell_type": "code",
      "source": [
        "len(a)"
      ],
      "metadata": {
        "id": "XUc1fKRbYNZq"
      },
      "execution_count": null,
      "outputs": []
    },
    {
      "cell_type": "code",
      "source": [
        "a.shape"
      ],
      "metadata": {
        "id": "KnRLQ7KGYZX1"
      },
      "execution_count": null,
      "outputs": []
    },
    {
      "cell_type": "code",
      "source": [
        "a.reshape(5,2)"
      ],
      "metadata": {
        "id": "QRYNgLp8YbMH"
      },
      "execution_count": null,
      "outputs": []
    },
    {
      "cell_type": "code",
      "source": [
        "import numpy as np\n",
        "np.random.random((4,3))"
      ],
      "metadata": {
        "id": "Bd81LnFEaLre"
      },
      "execution_count": null,
      "outputs": []
    },
    {
      "cell_type": "code",
      "source": [
        "w=np.random.randint(3,10, size=(3,5)) # give values between 3 and 10\n",
        "w"
      ],
      "metadata": {
        "id": "4Kyra3EhbKQ0"
      },
      "execution_count": null,
      "outputs": []
    },
    {
      "cell_type": "code",
      "source": [
        "w[0]"
      ],
      "metadata": {
        "id": "Z-8iyUN5buS4"
      },
      "execution_count": null,
      "outputs": []
    },
    {
      "cell_type": "code",
      "source": [
        "w[1]"
      ],
      "metadata": {
        "id": "KhAF5EsUb7xw"
      },
      "execution_count": null,
      "outputs": []
    },
    {
      "cell_type": "code",
      "source": [
        "w[0,0]"
      ],
      "metadata": {
        "id": "e-8fLK_pcTU_"
      },
      "execution_count": null,
      "outputs": []
    },
    {
      "cell_type": "code",
      "source": [
        "w[-1,-1]"
      ],
      "metadata": {
        "id": "hs6yhgLZcZBb"
      },
      "execution_count": null,
      "outputs": []
    },
    {
      "cell_type": "code",
      "source": [
        "w[0:2,  0:2]"
      ],
      "metadata": {
        "id": "-aW0yUczchcf"
      },
      "execution_count": null,
      "outputs": []
    },
    {
      "cell_type": "code",
      "source": [
        "w[-2:, -2:]"
      ],
      "metadata": {
        "id": "xqhNAl01c79s"
      },
      "execution_count": null,
      "outputs": []
    },
    {
      "cell_type": "code",
      "source": [
        "e=np.array([1,2,3])\n",
        "f=np.array([4,5,6])\n",
        "np.concatenate((e,f))"
      ],
      "metadata": {
        "id": "8UReYvLogN3J"
      },
      "execution_count": null,
      "outputs": []
    },
    {
      "cell_type": "code",
      "source": [
        "import numpy as np\n",
        "\n",
        "arr1 = np.array([[1, 2], [3, 4]])\n",
        "\n",
        "arr2 = np.array([[5, 6], [7, 8]])\n",
        "\n",
        "arr = np.concatenate((arr1, arr2), axis=1) #axis=1 → stack horizontally\n",
        "\n",
        "print(arr)"
      ],
      "metadata": {
        "id": "iNAUJfqQgw0Z"
      },
      "execution_count": null,
      "outputs": []
    },
    {
      "cell_type": "code",
      "source": [
        "import numpy as np\n",
        "\n",
        "arr1 = np.array([[1, 2], [3, 4]])\n",
        "\n",
        "arr2 = np.array([[5, 6], [7, 8]])\n",
        "\n",
        "arr = np.concatenate((arr1, arr2), axis=0)   #axis=0 → stack vertically\n",
        "\n",
        "print(arr)"
      ],
      "metadata": {
        "id": "YeKlOswZhHTL"
      },
      "execution_count": null,
      "outputs": []
    },
    {
      "cell_type": "code",
      "source": [
        "#Stacking is same as concatenation, the only difference is that stacking is done along a new axis.\n",
        "\n",
        "import numpy as np\n",
        "\n",
        "arr1 = np.array([1, 2, 3])\n",
        "\n",
        "arr2 = np.array([4, 5, 6])\n",
        "\n",
        "arr = np.stack((arr1, arr2), axis=1)\n",
        "\n",
        "print(arr)"
      ],
      "metadata": {
        "id": "RPwJ24O9hg63"
      },
      "execution_count": null,
      "outputs": []
    },
    {
      "cell_type": "code",
      "source": [
        "import numpy as np\n",
        "\n",
        "arr1 = np.array([1, 2, 3])\n",
        "\n",
        "arr2 = np.array([4, 5, 6])\n",
        "\n",
        "arr = np.hstack((arr1, arr2))\n",
        "\n",
        "print(arr)"
      ],
      "metadata": {
        "id": "ZSNLCjk7h239"
      },
      "execution_count": null,
      "outputs": []
    },
    {
      "cell_type": "code",
      "source": [
        "a = np.array([[1, 2], [3, 4]])\n",
        "b = np.array([[5, 6], [7, 8]])\n",
        "\n",
        "print(np.hstack((a, b)))"
      ],
      "metadata": {
        "id": "W2NetsXXi8ZS"
      },
      "execution_count": null,
      "outputs": []
    },
    {
      "cell_type": "code",
      "source": [
        "import numpy as np\n",
        "\n",
        "arr = np.array([0, 0, 3, 0])\n",
        "\n",
        "print(np.any(arr))     # True (because 3 is nonzero)\n",
        "print(np.any(arr == 3)) # True (3 is present)\n",
        "print(np.any(arr > 5))"
      ],
      "metadata": {
        "id": "-Y7JxNCgQtsn"
      },
      "execution_count": null,
      "outputs": []
    },
    {
      "cell_type": "code",
      "source": [
        "import numpy as np\n",
        "\n",
        "arr1 = np.array([1, 2, 3])\n",
        "\n",
        "arr2 = np.array([4, 5, 6])\n",
        "\n",
        "arr = np.vstack((arr1, arr2))\n",
        "\n",
        "print(arr)"
      ],
      "metadata": {
        "id": "FI7TAtcKh7WT"
      },
      "execution_count": null,
      "outputs": []
    },
    {
      "cell_type": "code",
      "source": [
        "import numpy as np\n",
        "\n",
        "arr = np.array([1, 2, 3, 4, 5, 6])\n",
        "\n",
        "newarr = np.array_split(arr, 3)\n",
        "\n",
        "print(newarr)"
      ],
      "metadata": {
        "id": "APJ9GPkqjpVf"
      },
      "execution_count": null,
      "outputs": []
    },
    {
      "cell_type": "code",
      "source": [
        "import numpy as np\n",
        "\n",
        "arr = np.array([1, 2, 3, 4, 5, 6])\n",
        "\n",
        "newarr = np.array_split(arr, 3)\n",
        "\n",
        "print(newarr[0])\n",
        "print(newarr[1])\n",
        "print(newarr[2])"
      ],
      "metadata": {
        "id": "GH1rW4K-j0b0"
      },
      "execution_count": null,
      "outputs": []
    },
    {
      "cell_type": "code",
      "source": [
        "import numpy as np\n",
        "\n",
        "arr = np.array([[1, 2, 3], [4, 5, 6], [7, 8, 9], [10, 11, 12], [13, 14, 15], [16, 17, 18]])\n",
        "\n",
        "newarr = np.array_split(arr, 3)\n",
        "\n",
        "print(newarr)"
      ],
      "metadata": {
        "id": "lqRCqcA4j--5"
      },
      "execution_count": null,
      "outputs": []
    },
    {
      "cell_type": "code",
      "source": [
        "import numpy as np\n",
        "\n",
        "arr = np.array([[1, 2, 3], [4, 5, 6], [7, 8, 9], [10, 11, 12], [13, 14, 15], [16, 17, 18]])\n",
        "\n",
        "newarr = np.array_split(arr, 3, axis=1)\n",
        "\n",
        "print(newarr)"
      ],
      "metadata": {
        "id": "go4eZ_eTkFDV"
      },
      "execution_count": null,
      "outputs": []
    },
    {
      "cell_type": "code",
      "source": [
        "import numpy as np\n",
        "\n",
        "arr = np.array([[1, 2, 3, 4, 5, 4, 4], [1, 2, 3, 4, 5, 4, 4]])\n",
        "\n",
        "x = np.where(arr == 4)\n",
        "\n",
        "print(x)"
      ],
      "metadata": {
        "id": "jqq4fGI3kUUm"
      },
      "execution_count": null,
      "outputs": []
    },
    {
      "cell_type": "code",
      "source": [
        "import numpy as np\n",
        "\n",
        "arr = np.array([6, 7, 8, 9])\n",
        "\n",
        "x = np.searchsorted(arr, 7, side='left')  #It finds the index where a given value should be inserted in a sorted array to maintain the sorting order.\n",
        "\n",
        "print(x)"
      ],
      "metadata": {
        "id": "BiUUowRPkX57"
      },
      "execution_count": null,
      "outputs": []
    },
    {
      "cell_type": "code",
      "source": [
        "import numpy as np\n",
        "\n",
        "arr = np.array([1, 3, 5, 7])\n",
        "\n",
        "x = np.searchsorted(arr, [2, 4, 6])\n",
        "\n",
        "print(x)"
      ],
      "metadata": {
        "id": "N04twA8Eku6_"
      },
      "execution_count": null,
      "outputs": []
    },
    {
      "cell_type": "code",
      "source": [
        "import numpy as np\n",
        "\n",
        "arr = np.array([3, 2, 0, 1])\n",
        "\n",
        "print(np.sort(arr))"
      ],
      "metadata": {
        "id": "heXR1kYSoh0Q"
      },
      "execution_count": null,
      "outputs": []
    },
    {
      "cell_type": "code",
      "source": [
        "import numpy as np\n",
        "\n",
        "arr = np.array(['banana', 'cherry', 'apple'])\n",
        "\n",
        "print(np.sort(arr))"
      ],
      "metadata": {
        "id": "o_opAypfonpR"
      },
      "execution_count": null,
      "outputs": []
    },
    {
      "cell_type": "code",
      "source": [
        "import numpy as np\n",
        "\n",
        "arr = np.array([True, False, True])\n",
        "\n",
        "print(np.sort(arr))"
      ],
      "metadata": {
        "id": "QrROImjSo2aT"
      },
      "execution_count": null,
      "outputs": []
    },
    {
      "cell_type": "code",
      "source": [
        "import numpy as np\n",
        "\n",
        "arr = np.array([[3, 2, 4], [5, 0, 1]])\n",
        "\n",
        "print(np.sort(arr))"
      ],
      "metadata": {
        "id": "x3qgMR4No5Ui"
      },
      "execution_count": null,
      "outputs": []
    },
    {
      "cell_type": "code",
      "source": [
        "import numpy as np\n",
        "\n",
        "arr = np.array([41, 42, 43, 44])\n",
        "\n",
        "x = [True, False, True, False]\n",
        "\n",
        "newarr = arr[x]\n",
        "\n",
        "print(newarr)"
      ],
      "metadata": {
        "id": "GcFjzKKjo8zN"
      },
      "execution_count": null,
      "outputs": []
    },
    {
      "cell_type": "markdown",
      "source": [
        "#Pandas Library"
      ],
      "metadata": {
        "id": "3yzjkL41z45o"
      }
    },
    {
      "cell_type": "code",
      "source": [
        "import pandas as pd\n",
        "pd.Series([1,2,3,4,np.nan,6,7])"
      ],
      "metadata": {
        "id": "xWzGmt0HpOOl"
      },
      "execution_count": null,
      "outputs": []
    },
    {
      "cell_type": "code",
      "source": [
        "pd.DataFrame(np.random.randint(0,100,size=(5,3)), columns=['a', 's', 'd'])"
      ],
      "metadata": {
        "id": "o092zQrw0wPG"
      },
      "execution_count": null,
      "outputs": []
    },
    {
      "cell_type": "code",
      "source": [
        "data={'Calaries':[20,30,40,50],\n",
        "      'duration':[10,20,30,40]}\n",
        "df=pd.DataFrame(data, index=['day1','day2','day3','day4'])"
      ],
      "metadata": {
        "id": "vfJBVhtd1ja4"
      },
      "execution_count": null,
      "outputs": []
    },
    {
      "cell_type": "code",
      "source": [
        "df['Calaries']"
      ],
      "metadata": {
        "id": "Vchzqjz-2ptp"
      },
      "execution_count": null,
      "outputs": []
    },
    {
      "cell_type": "code",
      "source": [
        "df.loc['day1':'day3'] #row name"
      ],
      "metadata": {
        "id": "1quH0dI52ucE"
      },
      "execution_count": null,
      "outputs": []
    },
    {
      "cell_type": "code",
      "source": [
        "df.iloc[0:3]   #row index"
      ],
      "metadata": {
        "id": "hvJjYi9q3F2p"
      },
      "execution_count": null,
      "outputs": []
    },
    {
      "cell_type": "code",
      "source": [
        "df.reset_index(drop=True)"
      ],
      "metadata": {
        "id": "T3oQmZ3m5Cfx"
      },
      "execution_count": null,
      "outputs": []
    },
    {
      "cell_type": "code",
      "source": [
        "url='https://docs.google.com/spreadsheets/d/1VdgNwORHh4HlimuuEgrsixRgko2Gi1YdnlUYAnkPFR8/export?format=csv&gid=0'\n",
        "df=pd.read_csv(url)"
      ],
      "metadata": {
        "id": "r5HecV8M6OgF"
      },
      "execution_count": null,
      "outputs": []
    },
    {
      "cell_type": "code",
      "source": [
        "df=pd.read_csv('/content/data - Sheet1.csv')"
      ],
      "metadata": {
        "id": "cO1Eomc66oiP"
      },
      "execution_count": null,
      "outputs": []
    },
    {
      "cell_type": "code",
      "source": [
        "df.head()"
      ],
      "metadata": {
        "id": "_-dsEYI67Mh5"
      },
      "execution_count": null,
      "outputs": []
    },
    {
      "cell_type": "code",
      "source": [
        "df.shape"
      ],
      "metadata": {
        "id": "PvqFg1uA7Xkl"
      },
      "execution_count": null,
      "outputs": []
    },
    {
      "cell_type": "code",
      "source": [
        "df.size"
      ],
      "metadata": {
        "id": "TIrTmucI8Fms"
      },
      "execution_count": null,
      "outputs": []
    },
    {
      "cell_type": "code",
      "source": [
        "df.columns"
      ],
      "metadata": {
        "id": "4rmG_BwR8Jt2"
      },
      "execution_count": null,
      "outputs": []
    },
    {
      "cell_type": "code",
      "source": [
        "df.info()"
      ],
      "metadata": {
        "id": "5_EVJeqO8UaT"
      },
      "execution_count": null,
      "outputs": []
    },
    {
      "cell_type": "code",
      "source": [
        "df.describe() #numerical column statistical info"
      ],
      "metadata": {
        "id": "BR6T-wlB86qL"
      },
      "execution_count": null,
      "outputs": []
    },
    {
      "cell_type": "code",
      "source": [
        "df.isna() #check whether the valus is na or not"
      ],
      "metadata": {
        "id": "6U5Vo4ry9cen"
      },
      "execution_count": null,
      "outputs": []
    },
    {
      "cell_type": "code",
      "source": [
        "df.isna().sum()"
      ],
      "metadata": {
        "id": "iWyhAAGn9t4_"
      },
      "execution_count": null,
      "outputs": []
    },
    {
      "cell_type": "code",
      "source": [
        "df[df['Calories']<=100]"
      ],
      "metadata": {
        "id": "7exl9mzA96Rm"
      },
      "execution_count": null,
      "outputs": []
    },
    {
      "cell_type": "code",
      "source": [
        "df[(df['Calories']<=100) & (df['Duration']==20)]"
      ],
      "metadata": {
        "id": "fgo7wGdZ-8Xf"
      },
      "execution_count": null,
      "outputs": []
    },
    {
      "cell_type": "code",
      "source": [
        "df.drop(columns=['Pulse'])"
      ],
      "metadata": {
        "id": "7MFlQ7ab_vsf"
      },
      "execution_count": null,
      "outputs": []
    },
    {
      "cell_type": "code",
      "source": [
        "df.nunique()"
      ],
      "metadata": {
        "id": "uXBDy_PJAIXj"
      },
      "execution_count": null,
      "outputs": []
    },
    {
      "cell_type": "code",
      "source": [
        "df['Duration'].unique()"
      ],
      "metadata": {
        "id": "PRIYZL6jAY98"
      },
      "execution_count": null,
      "outputs": []
    },
    {
      "cell_type": "code",
      "source": [
        "df['Duration'].value_counts()"
      ],
      "metadata": {
        "id": "4f5QLwFkAjAP"
      },
      "execution_count": null,
      "outputs": []
    },
    {
      "cell_type": "code",
      "source": [
        "df.groupby('Duration')['Calories'].mean()"
      ],
      "metadata": {
        "id": "H1nOLTauA7Q6"
      },
      "execution_count": null,
      "outputs": []
    },
    {
      "cell_type": "code",
      "source": [
        "df['calories_per_min']=df['Calories']/df['Duration']\n",
        "print(df)"
      ],
      "metadata": {
        "id": "ZwBTyVu4BcEW"
      },
      "execution_count": null,
      "outputs": []
    },
    {
      "cell_type": "code",
      "source": [
        "import seaborn as sns\n",
        "data = sns.load_dataset('titanic')"
      ],
      "metadata": {
        "id": "OU7Fdx_HB8No"
      },
      "execution_count": null,
      "outputs": []
    },
    {
      "cell_type": "code",
      "source": [
        "sns.get_dataset_names()"
      ],
      "metadata": {
        "id": "Ja23yppVCirA"
      },
      "execution_count": null,
      "outputs": []
    },
    {
      "cell_type": "code",
      "source": [
        "data.head()"
      ],
      "metadata": {
        "id": "dVX_-1gDCtkC"
      },
      "execution_count": null,
      "outputs": []
    },
    {
      "cell_type": "code",
      "source": [
        "data.tail()"
      ],
      "metadata": {
        "id": "I-ctTC8JCxj9"
      },
      "execution_count": null,
      "outputs": []
    },
    {
      "cell_type": "code",
      "source": [
        "data.shape"
      ],
      "metadata": {
        "id": "ONwAxyPBC2Dw"
      },
      "execution_count": null,
      "outputs": []
    },
    {
      "cell_type": "code",
      "source": [
        "data.size"
      ],
      "metadata": {
        "id": "UzqfYqvKDHfT"
      },
      "execution_count": null,
      "outputs": []
    },
    {
      "cell_type": "code",
      "source": [
        "data.info()"
      ],
      "metadata": {
        "id": "VvFuQMFLDJKK"
      },
      "execution_count": null,
      "outputs": []
    },
    {
      "cell_type": "code",
      "source": [
        "data.columns"
      ],
      "metadata": {
        "id": "zSDtqbkhDNHV"
      },
      "execution_count": null,
      "outputs": []
    },
    {
      "cell_type": "code",
      "source": [
        "data.nunique()"
      ],
      "metadata": {
        "id": "k6DaWuYFDUmH"
      },
      "execution_count": null,
      "outputs": []
    },
    {
      "cell_type": "code",
      "source": [
        "data['class'].unique()"
      ],
      "metadata": {
        "id": "EYSohuYEDarZ"
      },
      "execution_count": null,
      "outputs": []
    },
    {
      "cell_type": "code",
      "source": [
        "data['class'].value_counts()"
      ],
      "metadata": {
        "id": "2Cfmc8ChEDP8"
      },
      "execution_count": null,
      "outputs": []
    },
    {
      "cell_type": "code",
      "source": [
        "data.describe()"
      ],
      "metadata": {
        "id": "BADxtvWLDlt4"
      },
      "execution_count": null,
      "outputs": []
    },
    {
      "cell_type": "code",
      "source": [
        "data.groupby('class')['survived'].mean()"
      ],
      "metadata": {
        "id": "mx28crkBD6Ie"
      },
      "execution_count": null,
      "outputs": []
    },
    {
      "cell_type": "code",
      "source": [
        "data.isna().sum()"
      ],
      "metadata": {
        "colab": {
          "base_uri": "https://localhost:8080/",
          "height": 146
        },
        "id": "oVd1IjnjET1w",
        "outputId": "a5acdcb6-dd25-4aaa-ab25-591ab923d4b0"
      },
      "execution_count": null,
      "outputs": [
        {
          "output_type": "error",
          "ename": "NameError",
          "evalue": "name 'data' is not defined",
          "traceback": [
            "\u001b[0;31m---------------------------------------------------------------------------\u001b[0m",
            "\u001b[0;31mNameError\u001b[0m                                 Traceback (most recent call last)",
            "\u001b[0;32m/tmp/ipython-input-1266705919.py\u001b[0m in \u001b[0;36m<cell line: 0>\u001b[0;34m()\u001b[0m\n\u001b[0;32m----> 1\u001b[0;31m \u001b[0mdata\u001b[0m\u001b[0;34m.\u001b[0m\u001b[0misna\u001b[0m\u001b[0;34m(\u001b[0m\u001b[0;34m)\u001b[0m\u001b[0;34m.\u001b[0m\u001b[0msum\u001b[0m\u001b[0;34m(\u001b[0m\u001b[0;34m)\u001b[0m\u001b[0;34m\u001b[0m\u001b[0;34m\u001b[0m\u001b[0m\n\u001b[0m",
            "\u001b[0;31mNameError\u001b[0m: name 'data' is not defined"
          ]
        }
      ]
    },
    {
      "cell_type": "markdown",
      "source": [
        "#MySQL"
      ],
      "metadata": {
        "id": "uXBCuBMNO3tM"
      }
    },
    {
      "cell_type": "code",
      "source": [
        "import sqlite3\n",
        "conn = sqlite3.connect(\"students.db\")\n",
        "cursor = conn.cursor()"
      ],
      "metadata": {
        "id": "l-7K7hDGEiRk"
      },
      "execution_count": null,
      "outputs": []
    },
    {
      "cell_type": "code",
      "source": [
        "cursor.execute(\"\"\"CREATE TABLE IF NOT EXISTS students(\n",
        "    id INTEGER PRIMARY KEY AUTOINCREMENT,\n",
        "    Name TEXT,\n",
        "    Age INT,\n",
        "    Gender TEXT,\n",
        "    Grade TEXT\n",
        ")\"\"\") #create table if not exist (tablename) this table will be created only if table name doesnot exist\n",
        "# Multiline comment we use 3 quotes"
      ],
      "metadata": {
        "colab": {
          "base_uri": "https://localhost:8080/"
        },
        "id": "-RgV2N0065Qr",
        "outputId": "368dd1c5-ff64-4aa7-9c52-770fc93c91ec"
      },
      "execution_count": null,
      "outputs": [
        {
          "output_type": "execute_result",
          "data": {
            "text/plain": [
              "<sqlite3.Cursor at 0x7db35bf64f40>"
            ]
          },
          "metadata": {},
          "execution_count": 149
        }
      ]
    },
    {
      "cell_type": "code",
      "source": [
        "cursor.execute(\"\"\"INSERT INTO students(id, Name, Age, Gender, Grade)\n",
        "values(1, 'Merin', 23, 'F', 'O')\"\"\")"
      ],
      "metadata": {
        "colab": {
          "base_uri": "https://localhost:8080/"
        },
        "id": "DDPMwNR_83ke",
        "outputId": "fdb85def-6f8d-4745-9d0f-b64a8fe396c9"
      },
      "execution_count": null,
      "outputs": [
        {
          "output_type": "execute_result",
          "data": {
            "text/plain": [
              "<sqlite3.Cursor at 0x7db35bf64f40>"
            ]
          },
          "metadata": {},
          "execution_count": 150
        }
      ]
    },
    {
      "cell_type": "code",
      "source": [
        "cursor.execute(\"\"\"INSERT INTO students(Name, Age, Gender, Grade)\n",
        "values('Maria', 19, 'F', 'O'),('Jiji', 51, 'M', 'O')\"\"\")"
      ],
      "metadata": {
        "colab": {
          "base_uri": "https://localhost:8080/"
        },
        "id": "9Ix68z-99-js",
        "outputId": "ecd14789-f4a3-49c3-e27f-16db2683e486"
      },
      "execution_count": null,
      "outputs": [
        {
          "output_type": "execute_result",
          "data": {
            "text/plain": [
              "<sqlite3.Cursor at 0x7db35bf64f40>"
            ]
          },
          "metadata": {},
          "execution_count": 151
        }
      ]
    },
    {
      "cell_type": "code",
      "source": [
        "cursor.execute(\"\"\"INSERT INTO students(Name, Age, Gender, Grade)\n",
        "values('Smitha', 47, 'F', 'O')\"\"\")"
      ],
      "metadata": {
        "colab": {
          "base_uri": "https://localhost:8080/"
        },
        "id": "7nm6N9r1-iJe",
        "outputId": "8bc70c1f-4d70-48d0-a0d2-f3b515414008"
      },
      "execution_count": null,
      "outputs": [
        {
          "output_type": "execute_result",
          "data": {
            "text/plain": [
              "<sqlite3.Cursor at 0x7db35bf64f40>"
            ]
          },
          "metadata": {},
          "execution_count": 152
        }
      ]
    },
    {
      "cell_type": "code",
      "source": [
        "conn.commit()"
      ],
      "metadata": {
        "id": "j5nwHkp1CpZW"
      },
      "execution_count": null,
      "outputs": []
    },
    {
      "cell_type": "code",
      "source": [
        "cursor.execute(\"SELECT * FROM students\")"
      ],
      "metadata": {
        "colab": {
          "base_uri": "https://localhost:8080/"
        },
        "id": "rdPw0kXuCUxy",
        "outputId": "cdd84806-3b6a-4de9-ffa2-2e85cb86e5e2"
      },
      "execution_count": null,
      "outputs": [
        {
          "output_type": "execute_result",
          "data": {
            "text/plain": [
              "<sqlite3.Cursor at 0x7db35bf64f40>"
            ]
          },
          "metadata": {},
          "execution_count": 154
        }
      ]
    },
    {
      "cell_type": "code",
      "source": [
        "print(cursor.fetchall())"
      ],
      "metadata": {
        "colab": {
          "base_uri": "https://localhost:8080/"
        },
        "id": "FL2qVPAuC3sj",
        "outputId": "a4ed3b98-7bb1-41b7-d4da-6de39d77d234"
      },
      "execution_count": null,
      "outputs": [
        {
          "output_type": "stream",
          "name": "stdout",
          "text": [
            "[(1, 'Merin', 23, 'F', 'O'), (2, 'Maria', 19, 'F', 'O'), (3, 'Jiji', 51, 'M', 'O'), (4, 'Smitha', 47, 'F', 'O')]\n"
          ]
        }
      ]
    },
    {
      "cell_type": "code",
      "source": [
        "rows = cursor.fetchall()"
      ],
      "metadata": {
        "id": "qFKU_A3CDW1u"
      },
      "execution_count": null,
      "outputs": []
    },
    {
      "cell_type": "code",
      "source": [
        "for row in rows:\n",
        "  print(\"id:\",row[0], \"Name:\" ,row[1], \"Age:\" ,row[2], \"Grade:\" ,row[3] )"
      ],
      "metadata": {
        "id": "bmZ3ioxXEUIx"
      },
      "execution_count": null,
      "outputs": []
    },
    {
      "cell_type": "code",
      "source": [
        "cursor.execute(\"SELECT * FROM students WHERE Grade = 'O'\")"
      ],
      "metadata": {
        "colab": {
          "base_uri": "https://localhost:8080/"
        },
        "id": "-FuRoQ7XEUsK",
        "outputId": "ee5585a2-f378-4e5a-9841-db5914bcb1a5"
      },
      "execution_count": null,
      "outputs": [
        {
          "output_type": "execute_result",
          "data": {
            "text/plain": [
              "<sqlite3.Cursor at 0x7db35bf64f40>"
            ]
          },
          "metadata": {},
          "execution_count": 158
        }
      ]
    },
    {
      "cell_type": "code",
      "source": [
        "print(cursor.fetchall())"
      ],
      "metadata": {
        "colab": {
          "base_uri": "https://localhost:8080/"
        },
        "id": "IPIVdarqGPqj",
        "outputId": "785b8f28-960a-46e7-91aa-49779b0acda3"
      },
      "execution_count": null,
      "outputs": [
        {
          "output_type": "stream",
          "name": "stdout",
          "text": [
            "[(1, 'Merin', 23, 'F', 'O'), (2, 'Maria', 19, 'F', 'O'), (3, 'Jiji', 51, 'M', 'O'), (4, 'Smitha', 47, 'F', 'O')]\n"
          ]
        }
      ]
    },
    {
      "cell_type": "code",
      "source": [
        "cursor.execute(\"SELECT id, Name FROM students WHERE Grade = 'O'\")"
      ],
      "metadata": {
        "colab": {
          "base_uri": "https://localhost:8080/"
        },
        "id": "Xjf1XNCiGVia",
        "outputId": "cc4c4107-1c10-4ee9-9bcf-45c345313a41"
      },
      "execution_count": null,
      "outputs": [
        {
          "output_type": "execute_result",
          "data": {
            "text/plain": [
              "<sqlite3.Cursor at 0x7db35bf64f40>"
            ]
          },
          "metadata": {},
          "execution_count": 160
        }
      ]
    },
    {
      "cell_type": "code",
      "source": [
        "print(cursor.fetchall())"
      ],
      "metadata": {
        "colab": {
          "base_uri": "https://localhost:8080/"
        },
        "id": "Gm9Mo9SCGpFL",
        "outputId": "d68b7f8e-e8be-43f5-bde6-d50ac7c9e3b8"
      },
      "execution_count": null,
      "outputs": [
        {
          "output_type": "stream",
          "name": "stdout",
          "text": [
            "[(1, 'Merin'), (2, 'Maria'), (3, 'Jiji'), (4, 'Smitha')]\n"
          ]
        }
      ]
    },
    {
      "cell_type": "code",
      "source": [
        "cursor.execute(\"SELECT * FROM students ORDER BY id DESC\")"
      ],
      "metadata": {
        "colab": {
          "base_uri": "https://localhost:8080/"
        },
        "id": "KumUbeTbGr7Y",
        "outputId": "b736cc20-fc1a-4f70-cb52-d240e5a0b468"
      },
      "execution_count": null,
      "outputs": [
        {
          "output_type": "execute_result",
          "data": {
            "text/plain": [
              "<sqlite3.Cursor at 0x7db35bf64f40>"
            ]
          },
          "metadata": {},
          "execution_count": 162
        }
      ]
    },
    {
      "cell_type": "code",
      "source": [
        "print(cursor.fetchall())"
      ],
      "metadata": {
        "colab": {
          "base_uri": "https://localhost:8080/"
        },
        "id": "0N6FZBq3IGyX",
        "outputId": "a96baf8f-0e37-4ce3-81c5-35e8961c427d"
      },
      "execution_count": null,
      "outputs": [
        {
          "output_type": "stream",
          "name": "stdout",
          "text": [
            "[(4, 'Smitha', 47, 'F', 'O'), (3, 'Jiji', 51, 'M', 'O'), (2, 'Maria', 19, 'F', 'O'), (1, 'Merin', 23, 'F', 'O')]\n"
          ]
        }
      ]
    },
    {
      "cell_type": "code",
      "source": [
        "cursor.execute(\"SELECT COUNT(*) FROM students WHERE Age=51\")\n",
        "print(cursor.fetchone()) #since we are fetching only one value that is the count"
      ],
      "metadata": {
        "colab": {
          "base_uri": "https://localhost:8080/"
        },
        "id": "DRuZ6JdZIdJl",
        "outputId": "1d1b1ede-6ab3-464f-91dc-33aef0b08ad7"
      },
      "execution_count": null,
      "outputs": [
        {
          "output_type": "stream",
          "name": "stdout",
          "text": [
            "(1,)\n"
          ]
        }
      ]
    },
    {
      "cell_type": "code",
      "source": [
        "cursor.execute(\"SELECT AVG(Age) FROM students\")\n",
        "print(cursor.fetchone())"
      ],
      "metadata": {
        "colab": {
          "base_uri": "https://localhost:8080/"
        },
        "id": "PXlum7LrJC5l",
        "outputId": "9741b24b-d1ef-4eca-8eee-ac7db07cb1f3"
      },
      "execution_count": null,
      "outputs": [
        {
          "output_type": "stream",
          "name": "stdout",
          "text": [
            "(35.0,)\n"
          ]
        }
      ]
    },
    {
      "cell_type": "code",
      "source": [
        "cursor.execute(\"SELECT * FROM students ORDER BY Age DESC LIMIT 3\")\n",
        "print(cursor.fetchall())"
      ],
      "metadata": {
        "colab": {
          "base_uri": "https://localhost:8080/"
        },
        "id": "hLhuJ0y8JvSG",
        "outputId": "2c6f716b-6e8d-4606-b2f9-987ee3e8ebdf"
      },
      "execution_count": null,
      "outputs": [
        {
          "output_type": "stream",
          "name": "stdout",
          "text": [
            "[(3, 'Jiji', 51, 'M', 'O'), (4, 'Smitha', 47, 'F', 'O'), (1, 'Merin', 23, 'F', 'O')]\n"
          ]
        }
      ]
    },
    {
      "cell_type": "code",
      "source": [
        "cursor.execute(\"SELECT COUNT(*) FROM students GROUP BY Age\")\n",
        "print(cursor.fetchall())"
      ],
      "metadata": {
        "colab": {
          "base_uri": "https://localhost:8080/"
        },
        "id": "z_3-XCXNKhNu",
        "outputId": "1ff0c2ed-7c7b-45b7-e575-077591c763e3"
      },
      "execution_count": null,
      "outputs": [
        {
          "output_type": "stream",
          "name": "stdout",
          "text": [
            "[(1,), (1,), (1,), (1,)]\n"
          ]
        }
      ]
    },
    {
      "cell_type": "code",
      "source": [
        "cursor.execute(\"ALTER TABLE students ADD COLUMN Mark INT\")"
      ],
      "metadata": {
        "colab": {
          "base_uri": "https://localhost:8080/"
        },
        "id": "xwOFjoqdLFXy",
        "outputId": "26bf15b4-a1af-429f-9004-8479bb190b31"
      },
      "execution_count": null,
      "outputs": [
        {
          "output_type": "execute_result",
          "data": {
            "text/plain": [
              "<sqlite3.Cursor at 0x7db35bf64f40>"
            ]
          },
          "metadata": {},
          "execution_count": 168
        }
      ]
    },
    {
      "cell_type": "code",
      "source": [
        "cursor.execute(\"SELECT * FROM students\")"
      ],
      "metadata": {
        "colab": {
          "base_uri": "https://localhost:8080/"
        },
        "id": "AsOOtPp0MglC",
        "outputId": "64c9ef7e-0ecb-4474-ca69-f31b8c863b0e"
      },
      "execution_count": null,
      "outputs": [
        {
          "output_type": "execute_result",
          "data": {
            "text/plain": [
              "<sqlite3.Cursor at 0x7db35bf64f40>"
            ]
          },
          "metadata": {},
          "execution_count": 169
        }
      ]
    },
    {
      "cell_type": "code",
      "source": [
        "cursor.execute(\"UPDATE students SET Mark=50 WHERE id=1\")"
      ],
      "metadata": {
        "colab": {
          "base_uri": "https://localhost:8080/"
        },
        "id": "t27XMEE3MiVF",
        "outputId": "a75066d3-696a-4047-9b9d-59b9debc2b5c"
      },
      "execution_count": null,
      "outputs": [
        {
          "output_type": "execute_result",
          "data": {
            "text/plain": [
              "<sqlite3.Cursor at 0x7db35bf64f40>"
            ]
          },
          "metadata": {},
          "execution_count": 170
        }
      ]
    },
    {
      "cell_type": "code",
      "source": [
        "cursor.execute(\"SELECT * FROM students\")\n",
        "print(cursor.fetchall())"
      ],
      "metadata": {
        "colab": {
          "base_uri": "https://localhost:8080/"
        },
        "id": "8T1Cbg2BNBQu",
        "outputId": "c6d9b722-3609-4766-8c0e-c3e1a40663aa"
      },
      "execution_count": null,
      "outputs": [
        {
          "output_type": "stream",
          "name": "stdout",
          "text": [
            "[(1, 'Merin', 23, 'F', 'O', 50), (2, 'Maria', 19, 'F', 'O', None), (3, 'Jiji', 51, 'M', 'O', None), (4, 'Smitha', 47, 'F', 'O', None)]\n"
          ]
        }
      ]
    },
    {
      "cell_type": "code",
      "source": [
        "cursor.execute(\"DELETE FROM students WHERE id=1\")"
      ],
      "metadata": {
        "colab": {
          "base_uri": "https://localhost:8080/"
        },
        "id": "LQZU_DPGPcOS",
        "outputId": "96d5b935-6268-458a-dcf7-4a60424fcbd2"
      },
      "execution_count": null,
      "outputs": [
        {
          "output_type": "execute_result",
          "data": {
            "text/plain": [
              "<sqlite3.Cursor at 0x7db35bf64f40>"
            ]
          },
          "metadata": {},
          "execution_count": 172
        }
      ]
    },
    {
      "cell_type": "code",
      "source": [
        "cursor.execute(\"SELECT * FROM students\")\n",
        "print(cursor.fetchall())"
      ],
      "metadata": {
        "colab": {
          "base_uri": "https://localhost:8080/"
        },
        "id": "TNqhq2pRPjMR",
        "outputId": "e612e478-5800-43f0-b2f0-f9ab046a53da"
      },
      "execution_count": null,
      "outputs": [
        {
          "output_type": "stream",
          "name": "stdout",
          "text": [
            "[(2, 'Maria', 19, 'F', 'O', None), (3, 'Jiji', 51, 'M', 'O', None), (4, 'Smitha', 47, 'F', 'O', None)]\n"
          ]
        }
      ]
    },
    {
      "cell_type": "code",
      "source": [
        "conn.commit()"
      ],
      "metadata": {
        "id": "E1pgHEFxPttu"
      },
      "execution_count": null,
      "outputs": []
    },
    {
      "cell_type": "code",
      "source": [
        "cursor.execute(\"\"\"CREATE TABLE IF NOT EXISTS Library(\n",
        "    id INTEGER PRIMARY KEY AUTOINCREMENT,\n",
        "    Name TEXT,\n",
        "    Autors_Name TEXT,\n",
        "    Price INT\n",
        ")\"\"\"\n",
        ")\n"
      ],
      "metadata": {
        "colab": {
          "base_uri": "https://localhost:8080/"
        },
        "id": "V_tJRt-XPy7n",
        "outputId": "deb47466-f95a-4039-88c0-306e4e1b8a77"
      },
      "execution_count": null,
      "outputs": [
        {
          "output_type": "execute_result",
          "data": {
            "text/plain": [
              "<sqlite3.Cursor at 0x7db35bf64f40>"
            ]
          },
          "metadata": {},
          "execution_count": 175
        }
      ]
    },
    {
      "cell_type": "code",
      "source": [
        "cursor.execute(\"\"\"INSERT INTO Library\n",
        "values(1, 'Merin Autobiobraphy', 'Merin', 1000),(2, 'Maria Autobiobraphy', 'Merin', 100), (3, 'Thasli Autobiobraphy', 'Merin', 5000)\"\"\")\n"
      ],
      "metadata": {
        "colab": {
          "base_uri": "https://localhost:8080/"
        },
        "id": "ju0oZNVzS-Ko",
        "outputId": "7d36ef31-c626-4410-dc60-e81c34372957"
      },
      "execution_count": null,
      "outputs": [
        {
          "output_type": "execute_result",
          "data": {
            "text/plain": [
              "<sqlite3.Cursor at 0x7db35bf64f40>"
            ]
          },
          "metadata": {},
          "execution_count": 176
        }
      ]
    },
    {
      "cell_type": "code",
      "source": [
        "conn.commit()"
      ],
      "metadata": {
        "id": "PDVg9H3GUHSE"
      },
      "execution_count": null,
      "outputs": []
    },
    {
      "cell_type": "code",
      "source": [
        "cursor.execute(\"SELECT * FROM Library\")"
      ],
      "metadata": {
        "colab": {
          "base_uri": "https://localhost:8080/"
        },
        "id": "btJ57fNSUTns",
        "outputId": "51a1739d-a041-4181-f15f-4350b1acd764"
      },
      "execution_count": null,
      "outputs": [
        {
          "output_type": "execute_result",
          "data": {
            "text/plain": [
              "<sqlite3.Cursor at 0x7db35bf64f40>"
            ]
          },
          "metadata": {},
          "execution_count": 178
        }
      ]
    },
    {
      "cell_type": "code",
      "source": [
        "rows = cursor.fetchall()"
      ],
      "metadata": {
        "id": "H-EP7THiVXh1"
      },
      "execution_count": null,
      "outputs": []
    },
    {
      "cell_type": "code",
      "source": [
        "for row in rows:\n",
        "  print(\"id:\",row[0], \"Name:\" ,row[1], \"Author\" ,row[2], \"Price\" ,row[3] )"
      ],
      "metadata": {
        "colab": {
          "base_uri": "https://localhost:8080/"
        },
        "id": "LdED9MEZVn2H",
        "outputId": "d3a8a057-bb57-43db-f336-eb03f7abb111"
      },
      "execution_count": null,
      "outputs": [
        {
          "output_type": "stream",
          "name": "stdout",
          "text": [
            "id: 1 Name: Merin Autobiobraphy Author Merin Price 1000\n",
            "id: 2 Name: Maria Autobiobraphy Author Merin Price 100\n",
            "id: 3 Name: Thasli Autobiobraphy Author Merin Price 5000\n"
          ]
        }
      ]
    },
    {
      "cell_type": "code",
      "source": [
        "cursor.execute(\"SELECT COUNT(*) FROM Library\")\n",
        "print(cursor.fetchone())"
      ],
      "metadata": {
        "colab": {
          "base_uri": "https://localhost:8080/"
        },
        "id": "DaoTZSDJVwb3",
        "outputId": "de6c05cd-f6d8-4c02-cba3-52da110b6bbc"
      },
      "execution_count": null,
      "outputs": [
        {
          "output_type": "stream",
          "name": "stdout",
          "text": [
            "(3,)\n"
          ]
        }
      ]
    },
    {
      "cell_type": "code",
      "source": [
        "cursor.execute(\"ALTER TABLE Library ADD COLUMN Year INT\")"
      ],
      "metadata": {
        "colab": {
          "base_uri": "https://localhost:8080/"
        },
        "id": "UZz6emfrV-IQ",
        "outputId": "48ac00c7-aac6-4ca4-af48-e290dde3c2a1"
      },
      "execution_count": null,
      "outputs": [
        {
          "output_type": "execute_result",
          "data": {
            "text/plain": [
              "<sqlite3.Cursor at 0x7db35bf64f40>"
            ]
          },
          "metadata": {},
          "execution_count": 182
        }
      ]
    },
    {
      "cell_type": "code",
      "source": [
        "cursor.execute(\"SELECT * FROM Library\")"
      ],
      "metadata": {
        "colab": {
          "base_uri": "https://localhost:8080/"
        },
        "id": "T32tsZEtWIvK",
        "outputId": "9a7433d2-ca11-43ff-f41c-da9423fe94a1"
      },
      "execution_count": null,
      "outputs": [
        {
          "output_type": "execute_result",
          "data": {
            "text/plain": [
              "<sqlite3.Cursor at 0x7db35bf64f40>"
            ]
          },
          "metadata": {},
          "execution_count": 183
        }
      ]
    },
    {
      "cell_type": "code",
      "source": [
        "cursor.execute(\"UPDATE Library SET Year=2025 WHERE id=1\")"
      ],
      "metadata": {
        "colab": {
          "base_uri": "https://localhost:8080/"
        },
        "id": "2oc9ysYOWRqE",
        "outputId": "ce012507-039d-493c-a04f-7d0289528e85"
      },
      "execution_count": null,
      "outputs": [
        {
          "output_type": "execute_result",
          "data": {
            "text/plain": [
              "<sqlite3.Cursor at 0x7db35bf64f40>"
            ]
          },
          "metadata": {},
          "execution_count": 184
        }
      ]
    },
    {
      "cell_type": "code",
      "source": [
        "cursor.execute(\"UPDATE Library SET Year=2030 WHERE id=2\")"
      ],
      "metadata": {
        "colab": {
          "base_uri": "https://localhost:8080/"
        },
        "id": "K_sLsuZ0Wc6J",
        "outputId": "b2ef5e7f-f5ba-4b0e-839f-c2913c2f8d27"
      },
      "execution_count": null,
      "outputs": [
        {
          "output_type": "execute_result",
          "data": {
            "text/plain": [
              "<sqlite3.Cursor at 0x7db35bf64f40>"
            ]
          },
          "metadata": {},
          "execution_count": 185
        }
      ]
    },
    {
      "cell_type": "code",
      "source": [
        "cursor.execute(\"UPDATE Library SET Year=2026 WHERE id=3\")"
      ],
      "metadata": {
        "colab": {
          "base_uri": "https://localhost:8080/"
        },
        "id": "d3xuoqj2Wb60",
        "outputId": "835390c1-d61e-40be-c6b2-f6cac99903cb"
      },
      "execution_count": null,
      "outputs": [
        {
          "output_type": "execute_result",
          "data": {
            "text/plain": [
              "<sqlite3.Cursor at 0x7db35bf64f40>"
            ]
          },
          "metadata": {},
          "execution_count": 186
        }
      ]
    },
    {
      "cell_type": "code",
      "source": [
        "cursor.execute(\"SELECT * FROM Library\")\n",
        "print(cursor.fetchall())"
      ],
      "metadata": {
        "colab": {
          "base_uri": "https://localhost:8080/"
        },
        "id": "XikXvxr-Wmn6",
        "outputId": "480e6265-d9a9-41ed-b9f5-54a67dc337e2"
      },
      "execution_count": null,
      "outputs": [
        {
          "output_type": "stream",
          "name": "stdout",
          "text": [
            "[(1, 'Merin Autobiobraphy', 'Merin', 1000, 2025), (2, 'Maria Autobiobraphy', 'Merin', 100, 2030), (3, 'Thasli Autobiobraphy', 'Merin', 5000, 2026)]\n"
          ]
        }
      ]
    },
    {
      "cell_type": "code",
      "source": [
        "cursor.execute(\"SELECT * FROM Library ORDER BY Year DESC\")\n",
        "print(cursor.fetchall())"
      ],
      "metadata": {
        "colab": {
          "base_uri": "https://localhost:8080/"
        },
        "id": "Z47S80wHW_Py",
        "outputId": "6dd4ee6a-f6ab-41a5-832e-dd641e5e9f5d"
      },
      "execution_count": null,
      "outputs": [
        {
          "output_type": "stream",
          "name": "stdout",
          "text": [
            "[(2, 'Maria Autobiobraphy', 'Merin', 100, 2030), (3, 'Thasli Autobiobraphy', 'Merin', 5000, 2026), (1, 'Merin Autobiobraphy', 'Merin', 1000, 2025)]\n"
          ]
        }
      ]
    },
    {
      "cell_type": "code",
      "source": [
        "cursor.execute(\"SELECT * FROM Library ORDER BY Price DESC\")\n",
        "print(cursor.fetchall())"
      ],
      "metadata": {
        "colab": {
          "base_uri": "https://localhost:8080/"
        },
        "id": "NrDGA1EMXP2K",
        "outputId": "95b4ebcc-7366-4f99-b096-415b4236b5c6"
      },
      "execution_count": null,
      "outputs": [
        {
          "output_type": "stream",
          "name": "stdout",
          "text": [
            "[(3, 'Thasli Autobiobraphy', 'Merin', 5000, 2026), (1, 'Merin Autobiobraphy', 'Merin', 1000, 2025), (2, 'Maria Autobiobraphy', 'Merin', 100, 2030)]\n"
          ]
        }
      ]
    },
    {
      "cell_type": "code",
      "source": [
        "cursor.execute(\"\"\"INSERT INTO Library\n",
        "values(4, 'Cutiyo Autobiobraphy', 'Merin', 500, 2026)\"\"\")"
      ],
      "metadata": {
        "colab": {
          "base_uri": "https://localhost:8080/"
        },
        "id": "AguV1lSMXzLE",
        "outputId": "74ddaa9b-34d3-46ea-9eed-f62399e5f290"
      },
      "execution_count": null,
      "outputs": [
        {
          "output_type": "execute_result",
          "data": {
            "text/plain": [
              "<sqlite3.Cursor at 0x7db35bf64f40>"
            ]
          },
          "metadata": {},
          "execution_count": 191
        }
      ]
    },
    {
      "cell_type": "code",
      "source": [
        "cursor.execute(\"SELECT * FROM Library\")\n",
        "print(cursor.fetchall())"
      ],
      "metadata": {
        "colab": {
          "base_uri": "https://localhost:8080/"
        },
        "id": "dhIUJw_nXmUp",
        "outputId": "c6a4428d-f341-4e38-dbdd-95bdc001d359"
      },
      "execution_count": null,
      "outputs": [
        {
          "output_type": "stream",
          "name": "stdout",
          "text": [
            "[(1, 'Merin Autobiobraphy', 'Merin', 1000, 2025), (2, 'Maria Autobiobraphy', 'Merin', 100, 2030), (3, 'Thasli Autobiobraphy', 'Merin', 5000, 2026), (4, 'Cutiyo Autobiobraphy', 'Merin', 500, 2026)]\n"
          ]
        }
      ]
    }
  ]
}